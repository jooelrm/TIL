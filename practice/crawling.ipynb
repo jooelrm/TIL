{
 "cells": [
  {
   "cell_type": "code",
   "execution_count": 10,
   "metadata": {},
   "outputs": [],
   "source": [
    "from selenium import webdriver\n",
    "\n",
    "import sys"
   ]
  },
  {
   "cell_type": "code",
   "execution_count": 11,
   "metadata": {},
   "outputs": [],
   "source": [
    "driver = webdriver.Chrome()"
   ]
  },
  {
   "cell_type": "code",
   "execution_count": 3,
   "metadata": {},
   "outputs": [],
   "source": [
    "code_list = ['000070','000080','000140','000150','000210','000270','000390','000720','000880','000990','001060','001230','001430','001680',\n",
    " '001740', '002270', '002320', '002350', '002380', '002390','002780', '003300', '003490', '004000', '004020', '004170','004430', '004540',\n",
    "'004560','004690', '004710', '004960', '005180', '005300', '005380', '005490', '005950', '005960', '006040', '006280', '007310', '007980', '008040',\n",
    " '008490', '008770', '009240', '009270', '009290', '009410', '009540', '009830', '011170', '011210', '011760', '011780', '012450', '014680', '015760', \n",
    "'016250', '016710', '016880', '017810', '019170', '019440', '020560', '023530', '023590', '025750', '028050', '028260', '028670', '030200', '031440',\n",
    " '034020', '036460', '036570', '039130', '042660', '042670', '047040', '047050', '051600', '053210', '058650', '060980', '064350', '069260', '069460',\n",
    " '069620', '069960', '071840', '072710', '079980', '082740', '086280', '090350', '091990', '093050', '101530', '103140', '111770', '122900', '128940',\n",
    " '139480', '161890', '185750', '204320', '213500', '253450']"
   ]
  },
  {
   "cell_type": "code",
   "execution_count": null,
   "metadata": {},
   "outputs": [],
   "source": []
  },
  {
   "cell_type": "code",
   "execution_count": 233,
   "metadata": {},
   "outputs": [],
   "source": [
    "tr_list = [4,5,6,7,8,10,11,12,13,14,16,17,18,19,20,22,23,24,25,26]\n",
    "date = []\n",
    "title = []\n",
    "mod = sys.modules[__name__]"
   ]
  },
  {
   "cell_type": "code",
   "execution_count": 234,
   "metadata": {},
   "outputs": [
    {
     "data": {
      "text/plain": [
       "[]"
      ]
     },
     "execution_count": 234,
     "metadata": {},
     "output_type": "execute_result"
    }
   ],
   "source": [
    "date"
   ]
  },
  {
   "cell_type": "code",
   "execution_count": 235,
   "metadata": {},
   "outputs": [],
   "source": [
    "for o in range(1,1271):\n",
    "        url = \"https://finance.naver.com/item/board.nhn?code=009270&page={}\".format(o)\n",
    "        driver.get(url)\n",
    "        articles = driver.find_elements_by_css_selector('tbody > tr' )\n",
    "        for p in tr_list:\n",
    "            date.append(articles[p].find_element_by_css_selector('td').text)\n",
    "            title.append(articles[p].find_element_by_css_selector('.title').text)"
   ]
  },
  {
   "cell_type": "code",
   "execution_count": 236,
   "metadata": {},
   "outputs": [],
   "source": [
    "df_text_009270 = pd.concat([pd.DataFrame(date), pd.DataFrame(title)], axis = 1)"
   ]
  },
  {
   "cell_type": "code",
   "execution_count": 237,
   "metadata": {},
   "outputs": [],
   "source": [
    "df_text_009270[\"기업코드\"] = '009270'"
   ]
  },
  {
   "cell_type": "code",
   "execution_count": 238,
   "metadata": {},
   "outputs": [
    {
     "data": {
      "text/plain": [
       "25400"
      ]
     },
     "execution_count": 238,
     "metadata": {},
     "output_type": "execute_result"
    }
   ],
   "source": [
    "len(df_text_009270)"
   ]
  },
  {
   "cell_type": "code",
   "execution_count": 239,
   "metadata": {},
   "outputs": [],
   "source": [
    "total = pd.concat([total, df_text_009270])"
   ]
  },
  {
   "cell_type": "code",
   "execution_count": 240,
   "metadata": {},
   "outputs": [
    {
     "data": {
      "text/plain": [
       "251656"
      ]
     },
     "execution_count": 240,
     "metadata": {},
     "output_type": "execute_result"
    }
   ],
   "source": [
    "len(total)"
   ]
  },
  {
   "cell_type": "code",
   "execution_count": 241,
   "metadata": {},
   "outputs": [
    {
     "data": {
      "text/html": [
       "<div>\n",
       "<style scoped>\n",
       "    .dataframe tbody tr th:only-of-type {\n",
       "        vertical-align: middle;\n",
       "    }\n",
       "\n",
       "    .dataframe tbody tr th {\n",
       "        vertical-align: top;\n",
       "    }\n",
       "\n",
       "    .dataframe thead th {\n",
       "        text-align: right;\n",
       "    }\n",
       "</style>\n",
       "<table border=\"1\" class=\"dataframe\">\n",
       "  <thead>\n",
       "    <tr style=\"text-align: right;\">\n",
       "      <th></th>\n",
       "      <th>0</th>\n",
       "      <th>0</th>\n",
       "      <th>기업코드</th>\n",
       "    </tr>\n",
       "  </thead>\n",
       "  <tbody>\n",
       "    <tr>\n",
       "      <th>25395</th>\n",
       "      <td>2017.06.07 09:40</td>\n",
       "      <td>이거 돌아가는 폼새가..?</td>\n",
       "      <td>009270</td>\n",
       "    </tr>\n",
       "    <tr>\n",
       "      <th>25396</th>\n",
       "      <td>2017.06.07 09:32</td>\n",
       "      <td>외인 13만 올 집중매수 !!!!</td>\n",
       "      <td>009270</td>\n",
       "    </tr>\n",
       "    <tr>\n",
       "      <th>25397</th>\n",
       "      <td>2017.06.07 09:19</td>\n",
       "      <td>미래대우 매수세로 돌아오면..?</td>\n",
       "      <td>009270</td>\n",
       "    </tr>\n",
       "    <tr>\n",
       "      <th>25398</th>\n",
       "      <td>2017.06.07 09:09</td>\n",
       "      <td>오늘 외인이 작정하고 들어오네..?</td>\n",
       "      <td>009270</td>\n",
       "    </tr>\n",
       "    <tr>\n",
       "      <th>25399</th>\n",
       "      <td>2017.06.07 09:08</td>\n",
       "      <td>오늘도 외인 좋은일 하는 구나.</td>\n",
       "      <td>009270</td>\n",
       "    </tr>\n",
       "  </tbody>\n",
       "</table>\n",
       "</div>"
      ],
      "text/plain": [
       "                      0                    0    기업코드\n",
       "25395  2017.06.07 09:40       이거 돌아가는 폼새가..?  009270\n",
       "25396  2017.06.07 09:32   외인 13만 올 집중매수 !!!!  009270\n",
       "25397  2017.06.07 09:19    미래대우 매수세로 돌아오면..?  009270\n",
       "25398  2017.06.07 09:09  오늘 외인이 작정하고 들어오네..?  009270\n",
       "25399  2017.06.07 09:08    오늘도 외인 좋은일 하는 구나.  009270"
      ]
     },
     "execution_count": 241,
     "metadata": {},
     "output_type": "execute_result"
    }
   ],
   "source": [
    "total.tail()"
   ]
  },
  {
   "cell_type": "code",
   "execution_count": 245,
   "metadata": {},
   "outputs": [],
   "source": [
    "total.to_csv('/Users/hyunjoon/Documents/text_total.csv', sep=',')"
   ]
  },
  {
   "cell_type": "code",
   "execution_count": 247,
   "metadata": {},
   "outputs": [
    {
     "data": {
      "text/html": [
       "<div>\n",
       "<style scoped>\n",
       "    .dataframe tbody tr th:only-of-type {\n",
       "        vertical-align: middle;\n",
       "    }\n",
       "\n",
       "    .dataframe tbody tr th {\n",
       "        vertical-align: top;\n",
       "    }\n",
       "\n",
       "    .dataframe thead th {\n",
       "        text-align: right;\n",
       "    }\n",
       "</style>\n",
       "<table border=\"1\" class=\"dataframe\">\n",
       "  <thead>\n",
       "    <tr style=\"text-align: right;\">\n",
       "      <th></th>\n",
       "      <th>Unnamed: 0</th>\n",
       "      <th>0</th>\n",
       "      <th>0.1</th>\n",
       "      <th>기업코드</th>\n",
       "    </tr>\n",
       "  </thead>\n",
       "  <tbody>\n",
       "    <tr>\n",
       "      <th>0</th>\n",
       "      <td>0</td>\n",
       "      <td>2020.07.05 11:13</td>\n",
       "      <td>이개잡주가 가네 [1]</td>\n",
       "      <td>4690</td>\n",
       "    </tr>\n",
       "    <tr>\n",
       "      <th>1</th>\n",
       "      <td>1</td>\n",
       "      <td>2020.07.04 19:52</td>\n",
       "      <td>뭐지? 이 최악의 추가매수는.. [5]</td>\n",
       "      <td>4690</td>\n",
       "    </tr>\n",
       "    <tr>\n",
       "      <th>2</th>\n",
       "      <td>2</td>\n",
       "      <td>2020.07.04 08:40</td>\n",
       "      <td>짱구들아 자산가치봐라 지금팔때냐 멍구들아 [2]</td>\n",
       "      <td>4690</td>\n",
       "    </tr>\n",
       "    <tr>\n",
       "      <th>3</th>\n",
       "      <td>3</td>\n",
       "      <td>2020.07.04 00:43</td>\n",
       "      <td>이 시점에 ...... [1]</td>\n",
       "      <td>4690</td>\n",
       "    </tr>\n",
       "    <tr>\n",
       "      <th>4</th>\n",
       "      <td>4</td>\n",
       "      <td>2020.07.03 13:46</td>\n",
       "      <td>6거래일째 상승 [2]</td>\n",
       "      <td>4690</td>\n",
       "    </tr>\n",
       "    <tr>\n",
       "      <th>...</th>\n",
       "      <td>...</td>\n",
       "      <td>...</td>\n",
       "      <td>...</td>\n",
       "      <td>...</td>\n",
       "    </tr>\n",
       "    <tr>\n",
       "      <th>251651</th>\n",
       "      <td>25395</td>\n",
       "      <td>2017.06.07 09:40</td>\n",
       "      <td>이거 돌아가는 폼새가..?</td>\n",
       "      <td>9270</td>\n",
       "    </tr>\n",
       "    <tr>\n",
       "      <th>251652</th>\n",
       "      <td>25396</td>\n",
       "      <td>2017.06.07 09:32</td>\n",
       "      <td>외인 13만 올 집중매수 !!!!</td>\n",
       "      <td>9270</td>\n",
       "    </tr>\n",
       "    <tr>\n",
       "      <th>251653</th>\n",
       "      <td>25397</td>\n",
       "      <td>2017.06.07 09:19</td>\n",
       "      <td>미래대우 매수세로 돌아오면..?</td>\n",
       "      <td>9270</td>\n",
       "    </tr>\n",
       "    <tr>\n",
       "      <th>251654</th>\n",
       "      <td>25398</td>\n",
       "      <td>2017.06.07 09:09</td>\n",
       "      <td>오늘 외인이 작정하고 들어오네..?</td>\n",
       "      <td>9270</td>\n",
       "    </tr>\n",
       "    <tr>\n",
       "      <th>251655</th>\n",
       "      <td>25399</td>\n",
       "      <td>2017.06.07 09:08</td>\n",
       "      <td>오늘도 외인 좋은일 하는 구나.</td>\n",
       "      <td>9270</td>\n",
       "    </tr>\n",
       "  </tbody>\n",
       "</table>\n",
       "<p>251656 rows × 4 columns</p>\n",
       "</div>"
      ],
      "text/plain": [
       "        Unnamed: 0                 0                         0.1  기업코드\n",
       "0                0  2020.07.05 11:13                이개잡주가 가네 [1]  4690\n",
       "1                1  2020.07.04 19:52       뭐지? 이 최악의 추가매수는.. [5]  4690\n",
       "2                2  2020.07.04 08:40  짱구들아 자산가치봐라 지금팔때냐 멍구들아 [2]  4690\n",
       "3                3  2020.07.04 00:43            이 시점에 ...... [1]  4690\n",
       "4                4  2020.07.03 13:46                6거래일째 상승 [2]  4690\n",
       "...            ...               ...                         ...   ...\n",
       "251651       25395  2017.06.07 09:40              이거 돌아가는 폼새가..?  9270\n",
       "251652       25396  2017.06.07 09:32          외인 13만 올 집중매수 !!!!  9270\n",
       "251653       25397  2017.06.07 09:19           미래대우 매수세로 돌아오면..?  9270\n",
       "251654       25398  2017.06.07 09:09         오늘 외인이 작정하고 들어오네..?  9270\n",
       "251655       25399  2017.06.07 09:08           오늘도 외인 좋은일 하는 구나.  9270\n",
       "\n",
       "[251656 rows x 4 columns]"
      ]
     },
     "execution_count": 247,
     "metadata": {},
     "output_type": "execute_result"
    }
   ],
   "source": [
    "pd.read_csv(\"/Users/hyunjoon/Documents/text_total.csv\", sep =',')"
   ]
  },
  {
   "cell_type": "code",
   "execution_count": null,
   "metadata": {},
   "outputs": [],
   "source": []
  }
 ],
 "metadata": {
  "kernelspec": {
   "display_name": "Python 3",
   "language": "python",
   "name": "python3"
  },
  "language_info": {
   "codemirror_mode": {
    "name": "ipython",
    "version": 3
   },
   "file_extension": ".py",
   "mimetype": "text/x-python",
   "name": "python",
   "nbconvert_exporter": "python",
   "pygments_lexer": "ipython3",
   "version": "3.7.6"
  }
 },
 "nbformat": 4,
 "nbformat_minor": 4
}
