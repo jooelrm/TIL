{
 "cells": [
  {
   "cell_type": "code",
   "execution_count": 1,
   "metadata": {},
   "outputs": [],
   "source": [
    "import scrapy\n",
    "from scrapy.http import TextResponse\n"
   ]
  },
  {
   "cell_type": "code",
   "execution_count": 11,
   "metadata": {},
   "outputs": [
    {
     "data": {
      "text/plain": [
       "['https://movie.naver.com/movie/bi/mi/basic.nhn?code=52555',\n",
       " 'https://movie.naver.com/movie/bi/mi/basic.nhn?code=11757',\n",
       " 'https://movie.naver.com/movie/bi/mi/basic.nhn?code=11093']"
      ]
     },
     "execution_count": 11,
     "metadata": {},
     "output_type": "execute_result"
    }
   ],
   "source": [
    "url = \"https://movie.naver.com/movie/running/current.nhn\"\n",
    "req = requests.get(url)\n",
    "response = TextResponse(req.url, body=req.text, encoding = \"utf-8\")\n",
    "links = response.xpath('//*[@id=\"content\"]/div[1]/div[1]/div[3]/ul/li/dl/dt/a/@href').extract()\n",
    "links = [response.urljoin(link) for link in links]\n",
    "links[-3:]"
   ]
  },
  {
   "cell_type": "code",
   "execution_count": 15,
   "metadata": {},
   "outputs": [
    {
     "data": {
      "text/plain": [
       "'https://movie.naver.com/movie/bi/mi/basic.nhn?code=189537'"
      ]
     },
     "execution_count": 15,
     "metadata": {},
     "output_type": "execute_result"
    }
   ],
   "source": [
    "link = links[0]\n",
    "link"
   ]
  },
  {
   "cell_type": "code",
   "execution_count": 16,
   "metadata": {},
   "outputs": [
    {
     "data": {
      "text/plain": [
       "<200 https://movie.naver.com/movie/bi/mi/basic.nhn?code=189537>"
      ]
     },
     "execution_count": 16,
     "metadata": {},
     "output_type": "execute_result"
    }
   ],
   "source": [
    "req = requests.get(link)\n",
    "response = TextResponse(req.url, body=req.text, encoding = \"utf-8\")\n",
    "response"
   ]
  },
  {
   "cell_type": "code",
   "execution_count": 22,
   "metadata": {},
   "outputs": [
    {
     "data": {
      "text/plain": [
       "('#살아있다', '1,291,102명', '7.97')"
      ]
     },
     "execution_count": 22,
     "metadata": {},
     "output_type": "execute_result"
    }
   ],
   "source": [
    "title = response.xpath('//*[@id=\"content\"]/div[1]/div[2]/div[1]/h3/a[1]/text()')[0].extract()\n",
    "\n",
    "count = response.xpath('//*[@id=\"content\"]/div[1]/div[2]/div[1]/dl/dd[5]/div/p[2]/text()')[0].extract()\n",
    "\n",
    "star = response.xpath('//*[@id=\"actualPointPersentBasic\"]/div/em/text()').extract()\n",
    "\n",
    "star = \"\".join(star)\n",
    "\n",
    "title, count, star"
   ]
  },
  {
   "cell_type": "code",
   "execution_count": 23,
   "metadata": {},
   "outputs": [
    {
     "name": "stdout",
     "output_type": "stream",
     "text": [
      "New Scrapy project 'naver_movie', using template directory '/Users/hyunjoon/opt/anaconda3/lib/python3.7/site-packages/scrapy/templates/project', created in:\r\n",
      "    /Users/hyunjoon/Documents/dss/naver_movie\r\n",
      "\r\n",
      "You can start your first spider with:\r\n",
      "    cd naver_movie\r\n",
      "    scrapy genspider example example.com\r\n"
     ]
    }
   ],
   "source": [
    "!scrapy startproject naver_movie"
   ]
  },
  {
   "cell_type": "code",
   "execution_count": 25,
   "metadata": {},
   "outputs": [
    {
     "name": "stdout",
     "output_type": "stream",
     "text": [
      "Overwriting naver_movie/naver_movie/items.py\n"
     ]
    }
   ],
   "source": [
    "%%writefile naver_movie/naver_movie/items.py\n",
    "\n",
    "import scrapy\n",
    "\n",
    "class NaverMovieItem(scrapy.Item):\n",
    "    title = scrapy.Field()\n",
    "    count = scrapy.Field()\n",
    "    star = scrapy.Field()\n",
    "    link = scrapy.Field()\n"
   ]
  },
  {
   "cell_type": "code",
   "execution_count": 37,
   "metadata": {},
   "outputs": [
    {
     "name": "stdout",
     "output_type": "stream",
     "text": [
      "Overwriting naver_movie/naver_movie/spiders/spider.py\n"
     ]
    }
   ],
   "source": [
    "%%writefile naver_movie/naver_movie/spiders/spider.py\n",
    "\n",
    "import scrapy\n",
    "\n",
    "from naver_movie.items import NaverMovieItem\n",
    "\n",
    "class Spider(scrapy.Spider):\n",
    "    \n",
    "    name = 'NaverMovieItem'\n",
    "    allow_domain = [\"https://movie.naver.com\"]\n",
    "    start_urls = [\"https://movie.naver.com/movie/running/current.nhn\"]\n",
    "    \n",
    "    def parse(self, response):\n",
    "        links = response.xpath('//*[@id=\"content\"]/div[1]/div[1]/div[3]/ul/li/dl/dt/a/@href').extract()\n",
    "        for link in links:\n",
    "            yield scrapy.Request(link, callback = self.parse_content)\n",
    "            \n",
    "    def parse_content(self, response):\n",
    "        item =NaverMovieItem()\n",
    "        item['title'] = response.xpath('//*[@id=\"content\"]/div[1]/div[2]/div[1]/h3/a[1]/text()')[0].extract()\n",
    "        try:\n",
    "            item[\"count\"] = response.xpath('//*[@id=\"content\"]/div[1]/div[2]/div[1]/dl/dd[5]/div/p/text()')[0].extract()\n",
    "        except:\n",
    "            star = response.xpath('//*[@id=\"actualPointPersentBasic\"]/div/em/text()').extract()\n",
    "      \n",
    "        item[\"star\"] = \"\".join(star)\n",
    "        item[\"link\"] = response.url\n",
    "        yield item\n",
    "        \n",
    "    "
   ]
  },
  {
   "cell_type": "code",
   "execution_count": 38,
   "metadata": {},
   "outputs": [],
   "source": [
    "!sed -i .bak 's/ROBOTSTXT_OBEY = True/ROBOTSTXT_OBEY = False/' naver_movie/naver_movie/settings.py"
   ]
  },
  {
   "cell_type": "code",
   "execution_count": 39,
   "metadata": {},
   "outputs": [
    {
     "name": "stdout",
     "output_type": "stream",
     "text": [
      "Overwriting run.sh\n"
     ]
    }
   ],
   "source": [
    "%%writefile run.sh\n",
    "cd naver_movie\n",
    "scrapy crawl NaverMovieItem"
   ]
  },
  {
   "cell_type": "code",
   "execution_count": 40,
   "metadata": {},
   "outputs": [
    {
     "name": "stdout",
     "output_type": "stream",
     "text": [
      "2020-07-03 18:12:22 [scrapy.utils.log] INFO: Scrapy 2.2.0 started (bot: naver_movie)\n",
      "2020-07-03 18:12:22 [scrapy.utils.log] INFO: Versions: lxml 4.5.0.0, libxml2 2.9.9, cssselect 1.1.0, parsel 1.6.0, w3lib 1.22.0, Twisted 20.3.0, Python 3.7.6 (default, Jan  8 2020, 13:42:34) - [Clang 4.0.1 (tags/RELEASE_401/final)], pyOpenSSL 19.1.0 (OpenSSL 1.1.1d  10 Sep 2019), cryptography 2.8, Platform Darwin-18.7.0-x86_64-i386-64bit\n",
      "2020-07-03 18:12:22 [scrapy.utils.log] DEBUG: Using reactor: twisted.internet.selectreactor.SelectReactor\n",
      "2020-07-03 18:12:22 [scrapy.crawler] INFO: Overridden settings:\n",
      "{'BOT_NAME': 'naver_movie',\n",
      " 'NEWSPIDER_MODULE': 'naver_movie.spiders',\n",
      " 'SPIDER_MODULES': ['naver_movie.spiders']}\n",
      "2020-07-03 18:12:22 [scrapy.extensions.telnet] INFO: Telnet Password: 47f39458e20f9b97\n",
      "2020-07-03 18:12:22 [scrapy.middleware] INFO: Enabled extensions:\n",
      "['scrapy.extensions.corestats.CoreStats',\n",
      " 'scrapy.extensions.telnet.TelnetConsole',\n",
      " 'scrapy.extensions.memusage.MemoryUsage',\n",
      " 'scrapy.extensions.logstats.LogStats']\n",
      "2020-07-03 18:12:22 [scrapy.middleware] INFO: Enabled downloader middlewares:\n",
      "['scrapy.downloadermiddlewares.httpauth.HttpAuthMiddleware',\n",
      " 'scrapy.downloadermiddlewares.downloadtimeout.DownloadTimeoutMiddleware',\n",
      " 'scrapy.downloadermiddlewares.defaultheaders.DefaultHeadersMiddleware',\n",
      " 'scrapy.downloadermiddlewares.useragent.UserAgentMiddleware',\n",
      " 'scrapy.downloadermiddlewares.retry.RetryMiddleware',\n",
      " 'scrapy.downloadermiddlewares.redirect.MetaRefreshMiddleware',\n",
      " 'scrapy.downloadermiddlewares.httpcompression.HttpCompressionMiddleware',\n",
      " 'scrapy.downloadermiddlewares.redirect.RedirectMiddleware',\n",
      " 'scrapy.downloadermiddlewares.cookies.CookiesMiddleware',\n",
      " 'scrapy.downloadermiddlewares.httpproxy.HttpProxyMiddleware',\n",
      " 'scrapy.downloadermiddlewares.stats.DownloaderStats']\n",
      "2020-07-03 18:12:22 [scrapy.middleware] INFO: Enabled spider middlewares:\n",
      "['scrapy.spidermiddlewares.httperror.HttpErrorMiddleware',\n",
      " 'scrapy.spidermiddlewares.offsite.OffsiteMiddleware',\n",
      " 'scrapy.spidermiddlewares.referer.RefererMiddleware',\n",
      " 'scrapy.spidermiddlewares.urllength.UrlLengthMiddleware',\n",
      " 'scrapy.spidermiddlewares.depth.DepthMiddleware']\n",
      "2020-07-03 18:12:22 [scrapy.middleware] INFO: Enabled item pipelines:\n",
      "[]\n",
      "2020-07-03 18:12:22 [scrapy.core.engine] INFO: Spider opened\n",
      "2020-07-03 18:12:22 [scrapy.extensions.logstats] INFO: Crawled 0 pages (at 0 pages/min), scraped 0 items (at 0 items/min)\n",
      "2020-07-03 18:12:22 [scrapy.extensions.telnet] INFO: Telnet console listening on 127.0.0.1:6023\n",
      "2020-07-03 18:12:22 [scrapy.core.engine] DEBUG: Crawled (200) <GET https://movie.naver.com/movie/running/current.nhn> (referer: None)\n",
      "2020-07-03 18:12:22 [scrapy.core.scraper] ERROR: Spider error processing <GET https://movie.naver.com/movie/running/current.nhn> (referer: None)\n",
      "Traceback (most recent call last):\n",
      "  File \"/Users/hyunjoon/opt/anaconda3/lib/python3.7/site-packages/scrapy/utils/defer.py\", line 120, in iter_errback\n",
      "    yield next(it)\n",
      "  File \"/Users/hyunjoon/opt/anaconda3/lib/python3.7/site-packages/scrapy/utils/python.py\", line 346, in __next__\n",
      "    return next(self.data)\n",
      "  File \"/Users/hyunjoon/opt/anaconda3/lib/python3.7/site-packages/scrapy/utils/python.py\", line 346, in __next__\n",
      "    return next(self.data)\n",
      "  File \"/Users/hyunjoon/opt/anaconda3/lib/python3.7/site-packages/scrapy/core/spidermw.py\", line 64, in _evaluate_iterable\n",
      "    for r in iterable:\n",
      "  File \"/Users/hyunjoon/opt/anaconda3/lib/python3.7/site-packages/scrapy/spidermiddlewares/offsite.py\", line 29, in process_spider_output\n",
      "    for x in result:\n",
      "  File \"/Users/hyunjoon/opt/anaconda3/lib/python3.7/site-packages/scrapy/core/spidermw.py\", line 64, in _evaluate_iterable\n",
      "    for r in iterable:\n",
      "  File \"/Users/hyunjoon/opt/anaconda3/lib/python3.7/site-packages/scrapy/spidermiddlewares/referer.py\", line 340, in <genexpr>\n",
      "    return (_set_referer(r) for r in result or ())\n",
      "  File \"/Users/hyunjoon/opt/anaconda3/lib/python3.7/site-packages/scrapy/core/spidermw.py\", line 64, in _evaluate_iterable\n",
      "    for r in iterable:\n",
      "  File \"/Users/hyunjoon/opt/anaconda3/lib/python3.7/site-packages/scrapy/spidermiddlewares/urllength.py\", line 37, in <genexpr>\n",
      "    return (r for r in result or () if _filter(r))\n",
      "  File \"/Users/hyunjoon/opt/anaconda3/lib/python3.7/site-packages/scrapy/core/spidermw.py\", line 64, in _evaluate_iterable\n",
      "    for r in iterable:\n",
      "  File \"/Users/hyunjoon/opt/anaconda3/lib/python3.7/site-packages/scrapy/spidermiddlewares/depth.py\", line 58, in <genexpr>\n",
      "    return (r for r in result or () if _filter(r))\n",
      "  File \"/Users/hyunjoon/opt/anaconda3/lib/python3.7/site-packages/scrapy/core/spidermw.py\", line 64, in _evaluate_iterable\n",
      "    for r in iterable:\n",
      "  File \"/Users/hyunjoon/Documents/dss/naver_movie/naver_movie/spiders/spider.py\", line 15, in parse\n",
      "    yield scrapy.Request(link, callback = self.parse_content)\n",
      "  File \"/Users/hyunjoon/opt/anaconda3/lib/python3.7/site-packages/scrapy/http/request/__init__.py\", line 25, in __init__\n",
      "    self._set_url(url)\n",
      "  File \"/Users/hyunjoon/opt/anaconda3/lib/python3.7/site-packages/scrapy/http/request/__init__.py\", line 69, in _set_url\n",
      "    raise ValueError('Missing scheme in request url: %s' % self._url)\n",
      "ValueError: Missing scheme in request url: /movie/bi/mi/basic.nhn?code=189537\n",
      "2020-07-03 18:12:22 [scrapy.core.engine] INFO: Closing spider (finished)\n",
      "2020-07-03 18:12:22 [scrapy.statscollectors] INFO: Dumping Scrapy stats:\n",
      "{'downloader/request_bytes': 240,\n",
      " 'downloader/request_count': 1,\n",
      " 'downloader/request_method_count/GET': 1,\n",
      " 'downloader/response_bytes': 60326,\n",
      " 'downloader/response_count': 1,\n",
      " 'downloader/response_status_count/200': 1,\n",
      " 'elapsed_time_seconds': 0.227072,\n",
      " 'finish_reason': 'finished',\n",
      " 'finish_time': datetime.datetime(2020, 7, 3, 9, 12, 22, 495134),\n",
      " 'log_count/DEBUG': 1,\n",
      " 'log_count/ERROR': 1,\n",
      " 'log_count/INFO': 10,\n",
      " 'memusage/max': 53895168,\n",
      " 'memusage/startup': 53895168,\n",
      " 'response_received_count': 1,\n",
      " 'scheduler/dequeued': 1,\n",
      " 'scheduler/dequeued/memory': 1,\n",
      " 'scheduler/enqueued': 1,\n",
      " 'scheduler/enqueued/memory': 1,\n",
      " 'spider_exceptions/ValueError': 1,\n",
      " 'start_time': datetime.datetime(2020, 7, 3, 9, 12, 22, 268062)}\n",
      "2020-07-03 18:12:22 [scrapy.core.engine] INFO: Spider closed (finished)\n"
     ]
    }
   ],
   "source": [
    "!source run.sh"
   ]
  },
  {
   "cell_type": "code",
   "execution_count": null,
   "metadata": {},
   "outputs": [],
   "source": []
  },
  {
   "cell_type": "code",
   "execution_count": null,
   "metadata": {},
   "outputs": [],
   "source": [
    "title = response.xpath('//*[@id=\"content\"]/div[1]/div[2]/div[1]/h3/a[1]/text()')[0].extract()\n",
    "\n",
    "count = response.xpath('//*[@id=\"content\"]/div[1]/div[2]/div[1]/dl/dd[5]/div/p[2]/text()')[0].extract()\n",
    "\n",
    "star = response.xpath('//*[@id=\"actualPointPersentBasic\"]/div/em/text()').extract()\n",
    "\n",
    "star = \"\".join(star)\n",
    "\n",
    "title, count, star"
   ]
  }
 ],
 "metadata": {
  "kernelspec": {
   "display_name": "Python 3",
   "language": "python",
   "name": "python3"
  },
  "language_info": {
   "codemirror_mode": {
    "name": "ipython",
    "version": 3
   },
   "file_extension": ".py",
   "mimetype": "text/x-python",
   "name": "python",
   "nbconvert_exporter": "python",
   "pygments_lexer": "ipython3",
   "version": "3.7.6"
  }
 },
 "nbformat": 4,
 "nbformat_minor": 4
}
