{
 "cells": [
  {
   "cell_type": "code",
   "execution_count": 1,
   "metadata": {},
   "outputs": [],
   "source": [
    "import pandas as pd\n",
    "import matplotlib.pylab as plt\n",
    "import missingno as msno\n",
    "from matplotlib import pyplot as plt\n",
    "import statsmodels.api as sm\n",
    "\n",
    "import sys\n",
    "import re\n",
    "import missingno as msno\n",
    "from functools import reduce\n",
    "\n",
    "import statsmodels.api as sm \n",
    "from statsmodels.stats.outliers_influence import variance_inflation_factor\n",
    "from sklearn.model_selection import train_test_split\n",
    "from sklearn.preprocessing import StandardScaler, RobustScaler\n",
    "from sklearn import datasets, linear_model\n",
    "from sklearn.metrics import confusion_matrix, classification_report\n",
    "\n",
    "from sklearn.preprocessing import LabelEncoder\n",
    "from scipy.stats import mode\n",
    "\n",
    "\n",
    "from PIL import Image\n",
    "from matplotlib import rc\n",
    "import matplotlib.pyplot as plt\n",
    "import seaborn as sns\n",
    "mpl.rc('font', family='AppleGothic')\n",
    "mpl.rc('axes', unicode_minus=False)\n",
    "plt.rcParams['axes.unicode_minus'] = False\n",
    "from IPython.display import set_matplotlib_formats\n",
    "%matplotlib inline\n",
    "%config InlineBackend.figure_format = 'retina'\n",
    "\n",
    "pd.options.display.max_rows = 9999\n",
    "pd.options.display.max_columns = 9999"
   ]
  },
  {
   "cell_type": "code",
   "execution_count": 2,
   "metadata": {},
   "outputs": [],
   "source": [
    "#csv 파일 데이터 로드 "
   ]
  },
  {
   "cell_type": "code",
   "execution_count": 3,
   "metadata": {
    "scrolled": true
   },
   "outputs": [],
   "source": [
    "data =pd.read_csv(\"data.csv\")"
   ]
  },
  {
   "cell_type": "code",
   "execution_count": 4,
   "metadata": {},
   "outputs": [
    {
     "data": {
      "text/html": [
       "<div>\n",
       "<style scoped>\n",
       "    .dataframe tbody tr th:only-of-type {\n",
       "        vertical-align: middle;\n",
       "    }\n",
       "\n",
       "    .dataframe tbody tr th {\n",
       "        vertical-align: top;\n",
       "    }\n",
       "\n",
       "    .dataframe thead th {\n",
       "        text-align: right;\n",
       "    }\n",
       "</style>\n",
       "<table border=\"1\" class=\"dataframe\">\n",
       "  <thead>\n",
       "    <tr style=\"text-align: right;\">\n",
       "      <th></th>\n",
       "      <th>Organization Name</th>\n",
       "      <th>Organization Name URL</th>\n",
       "      <th>Industries</th>\n",
       "      <th>Headquarters Location</th>\n",
       "      <th>Description</th>\n",
       "      <th>CB Rank (Company)</th>\n",
       "      <th>Estimated Revenue Range</th>\n",
       "      <th>Operating Status</th>\n",
       "      <th>Founded Date</th>\n",
       "      <th>Founded Date Precision</th>\n",
       "      <th>Company Type</th>\n",
       "      <th>Number of Articles</th>\n",
       "      <th>Industry Groups</th>\n",
       "      <th>Number of Founders</th>\n",
       "      <th>Founders</th>\n",
       "      <th>Number of Employees</th>\n",
       "      <th>Number of Funding Rounds</th>\n",
       "      <th>Funding Status</th>\n",
       "      <th>Last Funding Date</th>\n",
       "      <th>Last Funding Amount</th>\n",
       "      <th>Last Funding Amount Currency</th>\n",
       "      <th>Last Funding Amount Currency (in USD)</th>\n",
       "      <th>Last Funding Type</th>\n",
       "      <th>Last Equity Funding Amount</th>\n",
       "      <th>Last Equity Funding Amount Currency</th>\n",
       "      <th>Last Equity Funding Amount Currency (in USD)</th>\n",
       "      <th>Last Equity Funding Type</th>\n",
       "      <th>Total Equity Funding Amount</th>\n",
       "      <th>Total Equity Funding Amount Currency</th>\n",
       "      <th>Total Equity Funding Amount Currency (in USD)</th>\n",
       "      <th>Total Funding Amount</th>\n",
       "      <th>Total Funding Amount Currency</th>\n",
       "      <th>Total Funding Amount Currency (in USD)</th>\n",
       "      <th>Top 5 Investors</th>\n",
       "      <th>Number of Lead Investors</th>\n",
       "      <th>Number of Investors</th>\n",
       "      <th>Number of Events</th>\n",
       "      <th>G2 Stack - Total Products Active</th>\n",
       "      <th>IPqwery - Patents Granted</th>\n",
       "      <th>IPqwery - Trademarks Registered</th>\n",
       "      <th>Announced Date</th>\n",
       "      <th>Announced Date Precision</th>\n",
       "      <th>IPO Status</th>\n",
       "      <th>IPO Date</th>\n",
       "      <th>Price</th>\n",
       "      <th>Price Currency</th>\n",
       "      <th>Price Currency (in USD)</th>\n",
       "      <th>Acquisition Status</th>\n",
       "      <th>Money Raised at IPO</th>\n",
       "      <th>Money Raised at IPO Currency</th>\n",
       "      <th>Money Raised at IPO Currency (in USD)</th>\n",
       "    </tr>\n",
       "  </thead>\n",
       "  <tbody>\n",
       "    <tr>\n",
       "      <th>0</th>\n",
       "      <td>Crescent City Capital</td>\n",
       "      <td>https://www.crunchbase.com/organization/cresce...</td>\n",
       "      <td>Finance, Financial Services</td>\n",
       "      <td>New Orleans, Louisiana, United States</td>\n",
       "      <td>Crescent City Capital is a cryptocurrency fund...</td>\n",
       "      <td>104,425</td>\n",
       "      <td>NaN</td>\n",
       "      <td>Active</td>\n",
       "      <td>2017-01-01</td>\n",
       "      <td>year</td>\n",
       "      <td>For Profit</td>\n",
       "      <td>NaN</td>\n",
       "      <td>Financial Services</td>\n",
       "      <td>NaN</td>\n",
       "      <td>NaN</td>\n",
       "      <td>1-10</td>\n",
       "      <td>1</td>\n",
       "      <td>Seed</td>\n",
       "      <td>2019-04-24</td>\n",
       "      <td>1000.0</td>\n",
       "      <td>USD</td>\n",
       "      <td>1000.0</td>\n",
       "      <td>Seed</td>\n",
       "      <td>1000.0</td>\n",
       "      <td>USD</td>\n",
       "      <td>1000.0</td>\n",
       "      <td>Seed</td>\n",
       "      <td>1000.0</td>\n",
       "      <td>USD</td>\n",
       "      <td>1000.0</td>\n",
       "      <td>1000</td>\n",
       "      <td>USD</td>\n",
       "      <td>1000</td>\n",
       "      <td>NaN</td>\n",
       "      <td>NaN</td>\n",
       "      <td>NaN</td>\n",
       "      <td>NaN</td>\n",
       "      <td>NaN</td>\n",
       "      <td>0.0</td>\n",
       "      <td>1</td>\n",
       "      <td>NaN</td>\n",
       "      <td>NaN</td>\n",
       "      <td>Private</td>\n",
       "      <td>NaN</td>\n",
       "      <td>NaN</td>\n",
       "      <td>NaN</td>\n",
       "      <td>NaN</td>\n",
       "      <td>NaN</td>\n",
       "      <td>NaN</td>\n",
       "      <td>NaN</td>\n",
       "      <td>NaN</td>\n",
       "    </tr>\n",
       "    <tr>\n",
       "      <th>1</th>\n",
       "      <td>Latch</td>\n",
       "      <td>https://www.crunchbase.com/organization/latch-...</td>\n",
       "      <td>Financial Exchanges</td>\n",
       "      <td>Los Angeles, California, United States</td>\n",
       "      <td>Latch is a private stock exchange (like NYSE o...</td>\n",
       "      <td>107,836</td>\n",
       "      <td>NaN</td>\n",
       "      <td>Active</td>\n",
       "      <td>2017-01-01</td>\n",
       "      <td>year</td>\n",
       "      <td>For Profit</td>\n",
       "      <td>NaN</td>\n",
       "      <td>Financial Services, Lending and Investments</td>\n",
       "      <td>NaN</td>\n",
       "      <td>NaN</td>\n",
       "      <td>1-10</td>\n",
       "      <td>1</td>\n",
       "      <td>Seed</td>\n",
       "      <td>2019-05-17</td>\n",
       "      <td>1000.0</td>\n",
       "      <td>USD</td>\n",
       "      <td>1000.0</td>\n",
       "      <td>Pre-Seed</td>\n",
       "      <td>1000.0</td>\n",
       "      <td>USD</td>\n",
       "      <td>1000.0</td>\n",
       "      <td>Pre-Seed</td>\n",
       "      <td>1000.0</td>\n",
       "      <td>USD</td>\n",
       "      <td>1000.0</td>\n",
       "      <td>1000</td>\n",
       "      <td>USD</td>\n",
       "      <td>1000</td>\n",
       "      <td>Tommy Lee Jones</td>\n",
       "      <td>1.0</td>\n",
       "      <td>1.0</td>\n",
       "      <td>NaN</td>\n",
       "      <td>NaN</td>\n",
       "      <td>0.0</td>\n",
       "      <td>1</td>\n",
       "      <td>NaN</td>\n",
       "      <td>NaN</td>\n",
       "      <td>Private</td>\n",
       "      <td>NaN</td>\n",
       "      <td>NaN</td>\n",
       "      <td>NaN</td>\n",
       "      <td>NaN</td>\n",
       "      <td>NaN</td>\n",
       "      <td>NaN</td>\n",
       "      <td>NaN</td>\n",
       "      <td>NaN</td>\n",
       "    </tr>\n",
       "    <tr>\n",
       "      <th>2</th>\n",
       "      <td>EM Device</td>\n",
       "      <td>https://www.crunchbase.com/organization/em-device</td>\n",
       "      <td>Health Care, Medical Device</td>\n",
       "      <td>Austin, Texas, United States</td>\n",
       "      <td>EM Device's mission is to garner physician ing...</td>\n",
       "      <td>126,974</td>\n",
       "      <td>NaN</td>\n",
       "      <td>Active</td>\n",
       "      <td>2016-01-01</td>\n",
       "      <td>year</td>\n",
       "      <td>For Profit</td>\n",
       "      <td>NaN</td>\n",
       "      <td>Health Care</td>\n",
       "      <td>NaN</td>\n",
       "      <td>NaN</td>\n",
       "      <td>1-10</td>\n",
       "      <td>1</td>\n",
       "      <td>NaN</td>\n",
       "      <td>2019-05-16</td>\n",
       "      <td>1000.0</td>\n",
       "      <td>USD</td>\n",
       "      <td>1000.0</td>\n",
       "      <td>Grant</td>\n",
       "      <td>NaN</td>\n",
       "      <td>NaN</td>\n",
       "      <td>NaN</td>\n",
       "      <td>NaN</td>\n",
       "      <td>NaN</td>\n",
       "      <td>NaN</td>\n",
       "      <td>NaN</td>\n",
       "      <td>1000</td>\n",
       "      <td>USD</td>\n",
       "      <td>1000</td>\n",
       "      <td>Texas A&amp;M New Ventures Competition</td>\n",
       "      <td>NaN</td>\n",
       "      <td>1.0</td>\n",
       "      <td>NaN</td>\n",
       "      <td>NaN</td>\n",
       "      <td>NaN</td>\n",
       "      <td>NaN</td>\n",
       "      <td>NaN</td>\n",
       "      <td>NaN</td>\n",
       "      <td>Private</td>\n",
       "      <td>NaN</td>\n",
       "      <td>NaN</td>\n",
       "      <td>NaN</td>\n",
       "      <td>NaN</td>\n",
       "      <td>NaN</td>\n",
       "      <td>NaN</td>\n",
       "      <td>NaN</td>\n",
       "      <td>NaN</td>\n",
       "    </tr>\n",
       "    <tr>\n",
       "      <th>3</th>\n",
       "      <td>Immosis</td>\n",
       "      <td>https://www.crunchbase.com/organization/immosis</td>\n",
       "      <td>Augmented Reality, Education, Gaming, Law Enfo...</td>\n",
       "      <td>Dallas, Texas, United States</td>\n",
       "      <td>Immosis is an agency that creates custom, imme...</td>\n",
       "      <td>97,159</td>\n",
       "      <td>NaN</td>\n",
       "      <td>Active</td>\n",
       "      <td>2016-12-12</td>\n",
       "      <td>day</td>\n",
       "      <td>For Profit</td>\n",
       "      <td>NaN</td>\n",
       "      <td>Education, Gaming, Government and Military, Ha...</td>\n",
       "      <td>1.0</td>\n",
       "      <td>Marwan Kodeih</td>\n",
       "      <td>11-50</td>\n",
       "      <td>4</td>\n",
       "      <td>NaN</td>\n",
       "      <td>2019-05-16</td>\n",
       "      <td>2000.0</td>\n",
       "      <td>USD</td>\n",
       "      <td>2000.0</td>\n",
       "      <td>Grant</td>\n",
       "      <td>NaN</td>\n",
       "      <td>NaN</td>\n",
       "      <td>NaN</td>\n",
       "      <td>NaN</td>\n",
       "      <td>NaN</td>\n",
       "      <td>NaN</td>\n",
       "      <td>NaN</td>\n",
       "      <td>2000</td>\n",
       "      <td>USD</td>\n",
       "      <td>2000</td>\n",
       "      <td>Texas A&amp;M New Ventures Competition</td>\n",
       "      <td>NaN</td>\n",
       "      <td>1.0</td>\n",
       "      <td>NaN</td>\n",
       "      <td>NaN</td>\n",
       "      <td>0.0</td>\n",
       "      <td>1</td>\n",
       "      <td>NaN</td>\n",
       "      <td>NaN</td>\n",
       "      <td>Private</td>\n",
       "      <td>NaN</td>\n",
       "      <td>NaN</td>\n",
       "      <td>NaN</td>\n",
       "      <td>NaN</td>\n",
       "      <td>NaN</td>\n",
       "      <td>NaN</td>\n",
       "      <td>NaN</td>\n",
       "      <td>NaN</td>\n",
       "    </tr>\n",
       "    <tr>\n",
       "      <th>4</th>\n",
       "      <td>GaitIQ</td>\n",
       "      <td>https://www.crunchbase.com/organization/gaitiq</td>\n",
       "      <td>Health Care</td>\n",
       "      <td>San Antonio, Texas, United States</td>\n",
       "      <td>GaitIQ is an simple-to-use primary care app.</td>\n",
       "      <td>107,370</td>\n",
       "      <td>NaN</td>\n",
       "      <td>Active</td>\n",
       "      <td>2017-01-01</td>\n",
       "      <td>year</td>\n",
       "      <td>For Profit</td>\n",
       "      <td>NaN</td>\n",
       "      <td>Health Care</td>\n",
       "      <td>NaN</td>\n",
       "      <td>NaN</td>\n",
       "      <td>1-10</td>\n",
       "      <td>1</td>\n",
       "      <td>NaN</td>\n",
       "      <td>2019-05-16</td>\n",
       "      <td>5000.0</td>\n",
       "      <td>USD</td>\n",
       "      <td>5000.0</td>\n",
       "      <td>Grant</td>\n",
       "      <td>NaN</td>\n",
       "      <td>NaN</td>\n",
       "      <td>NaN</td>\n",
       "      <td>NaN</td>\n",
       "      <td>NaN</td>\n",
       "      <td>NaN</td>\n",
       "      <td>NaN</td>\n",
       "      <td>5000</td>\n",
       "      <td>USD</td>\n",
       "      <td>5000</td>\n",
       "      <td>Texas A&amp;M New Ventures Competition</td>\n",
       "      <td>NaN</td>\n",
       "      <td>1.0</td>\n",
       "      <td>NaN</td>\n",
       "      <td>NaN</td>\n",
       "      <td>NaN</td>\n",
       "      <td>NaN</td>\n",
       "      <td>NaN</td>\n",
       "      <td>NaN</td>\n",
       "      <td>Private</td>\n",
       "      <td>NaN</td>\n",
       "      <td>NaN</td>\n",
       "      <td>NaN</td>\n",
       "      <td>NaN</td>\n",
       "      <td>NaN</td>\n",
       "      <td>NaN</td>\n",
       "      <td>NaN</td>\n",
       "      <td>NaN</td>\n",
       "    </tr>\n",
       "  </tbody>\n",
       "</table>\n",
       "</div>"
      ],
      "text/plain": [
       "       Organization Name                              Organization Name URL  \\\n",
       "0  Crescent City Capital  https://www.crunchbase.com/organization/cresce...   \n",
       "1                  Latch  https://www.crunchbase.com/organization/latch-...   \n",
       "2              EM Device  https://www.crunchbase.com/organization/em-device   \n",
       "3                Immosis    https://www.crunchbase.com/organization/immosis   \n",
       "4                 GaitIQ     https://www.crunchbase.com/organization/gaitiq   \n",
       "\n",
       "                                          Industries  \\\n",
       "0                        Finance, Financial Services   \n",
       "1                                Financial Exchanges   \n",
       "2                        Health Care, Medical Device   \n",
       "3  Augmented Reality, Education, Gaming, Law Enfo...   \n",
       "4                                        Health Care   \n",
       "\n",
       "                    Headquarters Location  \\\n",
       "0   New Orleans, Louisiana, United States   \n",
       "1  Los Angeles, California, United States   \n",
       "2            Austin, Texas, United States   \n",
       "3            Dallas, Texas, United States   \n",
       "4       San Antonio, Texas, United States   \n",
       "\n",
       "                                         Description CB Rank (Company)  \\\n",
       "0  Crescent City Capital is a cryptocurrency fund...           104,425   \n",
       "1  Latch is a private stock exchange (like NYSE o...           107,836   \n",
       "2  EM Device's mission is to garner physician ing...           126,974   \n",
       "3  Immosis is an agency that creates custom, imme...            97,159   \n",
       "4       GaitIQ is an simple-to-use primary care app.           107,370   \n",
       "\n",
       "  Estimated Revenue Range Operating Status Founded Date  \\\n",
       "0                     NaN           Active   2017-01-01   \n",
       "1                     NaN           Active   2017-01-01   \n",
       "2                     NaN           Active   2016-01-01   \n",
       "3                     NaN           Active   2016-12-12   \n",
       "4                     NaN           Active   2017-01-01   \n",
       "\n",
       "  Founded Date Precision Company Type Number of Articles  \\\n",
       "0                   year   For Profit                NaN   \n",
       "1                   year   For Profit                NaN   \n",
       "2                   year   For Profit                NaN   \n",
       "3                    day   For Profit                NaN   \n",
       "4                   year   For Profit                NaN   \n",
       "\n",
       "                                     Industry Groups  Number of Founders  \\\n",
       "0                                 Financial Services                 NaN   \n",
       "1        Financial Services, Lending and Investments                 NaN   \n",
       "2                                        Health Care                 NaN   \n",
       "3  Education, Gaming, Government and Military, Ha...                 1.0   \n",
       "4                                        Health Care                 NaN   \n",
       "\n",
       "        Founders Number of Employees  Number of Funding Rounds Funding Status  \\\n",
       "0            NaN                1-10                         1           Seed   \n",
       "1            NaN                1-10                         1           Seed   \n",
       "2            NaN                1-10                         1            NaN   \n",
       "3  Marwan Kodeih               11-50                         4            NaN   \n",
       "4            NaN                1-10                         1            NaN   \n",
       "\n",
       "  Last Funding Date  Last Funding Amount Last Funding Amount Currency  \\\n",
       "0        2019-04-24               1000.0                          USD   \n",
       "1        2019-05-17               1000.0                          USD   \n",
       "2        2019-05-16               1000.0                          USD   \n",
       "3        2019-05-16               2000.0                          USD   \n",
       "4        2019-05-16               5000.0                          USD   \n",
       "\n",
       "   Last Funding Amount Currency (in USD) Last Funding Type  \\\n",
       "0                                 1000.0              Seed   \n",
       "1                                 1000.0          Pre-Seed   \n",
       "2                                 1000.0             Grant   \n",
       "3                                 2000.0             Grant   \n",
       "4                                 5000.0             Grant   \n",
       "\n",
       "   Last Equity Funding Amount Last Equity Funding Amount Currency  \\\n",
       "0                      1000.0                                 USD   \n",
       "1                      1000.0                                 USD   \n",
       "2                         NaN                                 NaN   \n",
       "3                         NaN                                 NaN   \n",
       "4                         NaN                                 NaN   \n",
       "\n",
       "   Last Equity Funding Amount Currency (in USD) Last Equity Funding Type  \\\n",
       "0                                        1000.0                     Seed   \n",
       "1                                        1000.0                 Pre-Seed   \n",
       "2                                           NaN                      NaN   \n",
       "3                                           NaN                      NaN   \n",
       "4                                           NaN                      NaN   \n",
       "\n",
       "   Total Equity Funding Amount Total Equity Funding Amount Currency  \\\n",
       "0                       1000.0                                  USD   \n",
       "1                       1000.0                                  USD   \n",
       "2                          NaN                                  NaN   \n",
       "3                          NaN                                  NaN   \n",
       "4                          NaN                                  NaN   \n",
       "\n",
       "   Total Equity Funding Amount Currency (in USD)  Total Funding Amount  \\\n",
       "0                                         1000.0                  1000   \n",
       "1                                         1000.0                  1000   \n",
       "2                                            NaN                  1000   \n",
       "3                                            NaN                  2000   \n",
       "4                                            NaN                  5000   \n",
       "\n",
       "  Total Funding Amount Currency  Total Funding Amount Currency (in USD)  \\\n",
       "0                           USD                                    1000   \n",
       "1                           USD                                    1000   \n",
       "2                           USD                                    1000   \n",
       "3                           USD                                    2000   \n",
       "4                           USD                                    5000   \n",
       "\n",
       "                      Top 5 Investors  Number of Lead Investors  \\\n",
       "0                                 NaN                       NaN   \n",
       "1                     Tommy Lee Jones                       1.0   \n",
       "2  Texas A&M New Ventures Competition                       NaN   \n",
       "3  Texas A&M New Ventures Competition                       NaN   \n",
       "4  Texas A&M New Ventures Competition                       NaN   \n",
       "\n",
       "   Number of Investors  Number of Events G2 Stack - Total Products Active  \\\n",
       "0                  NaN               NaN                              NaN   \n",
       "1                  1.0               NaN                              NaN   \n",
       "2                  1.0               NaN                              NaN   \n",
       "3                  1.0               NaN                              NaN   \n",
       "4                  1.0               NaN                              NaN   \n",
       "\n",
       "  IPqwery - Patents Granted IPqwery - Trademarks Registered Announced Date  \\\n",
       "0                       0.0                               1            NaN   \n",
       "1                       0.0                               1            NaN   \n",
       "2                       NaN                             NaN            NaN   \n",
       "3                       0.0                               1            NaN   \n",
       "4                       NaN                             NaN            NaN   \n",
       "\n",
       "  Announced Date Precision IPO Status IPO Date  Price Price Currency  \\\n",
       "0                      NaN    Private      NaN    NaN            NaN   \n",
       "1                      NaN    Private      NaN    NaN            NaN   \n",
       "2                      NaN    Private      NaN    NaN            NaN   \n",
       "3                      NaN    Private      NaN    NaN            NaN   \n",
       "4                      NaN    Private      NaN    NaN            NaN   \n",
       "\n",
       "   Price Currency (in USD) Acquisition Status  Money Raised at IPO  \\\n",
       "0                      NaN                NaN                  NaN   \n",
       "1                      NaN                NaN                  NaN   \n",
       "2                      NaN                NaN                  NaN   \n",
       "3                      NaN                NaN                  NaN   \n",
       "4                      NaN                NaN                  NaN   \n",
       "\n",
       "  Money Raised at IPO Currency  Money Raised at IPO Currency (in USD)  \n",
       "0                          NaN                                    NaN  \n",
       "1                          NaN                                    NaN  \n",
       "2                          NaN                                    NaN  \n",
       "3                          NaN                                    NaN  \n",
       "4                          NaN                                    NaN  "
      ]
     },
     "execution_count": 4,
     "metadata": {},
     "output_type": "execute_result"
    }
   ],
   "source": [
    "data.head()"
   ]
  },
  {
   "cell_type": "code",
   "execution_count": 5,
   "metadata": {},
   "outputs": [],
   "source": [
    "#결측값 시작적 확인해보기"
   ]
  },
  {
   "cell_type": "code",
   "execution_count": 6,
   "metadata": {
    "scrolled": true
   },
   "outputs": [],
   "source": [
    "import industry\n",
    "\n",
    "data =industry.industry()"
   ]
  },
  {
   "cell_type": "code",
   "execution_count": 7,
   "metadata": {},
   "outputs": [],
   "source": [
    "# data_IPO = data[data[\"Funding Status\"] == 'IPO']\n",
    "# data_M = data[data[\"Funding Status\"] == 'M&A']\n",
    "\n",
    "# index_IPO = list(data_IPO.index)\n",
    "# index_M = list(data_M.index)\n",
    "\n",
    "# data = data.drop(index_IPO)\n",
    "# data = data.drop(index_M)\n",
    "\n",
    "#data[\"Last Funding Date\"] = data[\"Last Funding Date\"].apply(lambda x: int(str(x)[:4]))\n",
    "data[\"Last Funding Date\"] = data[\"Last Funding Date\"].apply(lambda x: int(str(x).replace(\"-\",\"\")))\n",
    "\n",
    "data[\"Founded Date\"] = data[\"Founded Date\"].fillna(99999999)\n",
    "#data[\"Founded Date\"] = data[\"Founded Date\"].apply(lambda x: int(str(x)[:4]))\n",
    "data[\"Founded Date\"] = data[\"Founded Date\"].apply(lambda x: int(str(x).replace(\"-\",\"\")))\n",
    "\n",
    "data[\"Announced Date\"] = data[\"Announced Date\"].fillna(99999999)\n",
    "#data[\"Announced Date\"] = data[\"Announced Date\"].apply(lambda x: int(str(x)[:4]))\n",
    "data[\"Announced Date\"] = data[\"Announced Date\"].apply(lambda x: int(str(x).replace(\"-\",\"\")))\n",
    "\n",
    "\n",
    "data[\"IPO Date\"] = data[\"IPO Date\"].fillna(99999999)\n",
    "#data[\"IPO Date\"] = data[\"IPO Date\"].apply(lambda x: int(str(x)[:4]))\n",
    "data[\"IPO Date\"] = data[\"IPO Date\"].apply(lambda x: int(str(x).replace(\"-\",\"\")))\n",
    "#data = data[data[\"Last Funding Date\"] > 20170117]\n",
    "# data[\"IPO Date\"] = data[\"IPO Date\"].fillna(400000000)\n",
    "# data[\"IPO Date\"] = data[\"IPO Date\"].apply(lambda x: int(str(x).replace(\"-\",\"\")))\n",
    "# data[\"Announced Date\"] =data[\"Announced Date\"].fillna(400000000)\n",
    "# data[\"Announced Date\"] =data[\"Announced Date\"] .apply(lambda x: int(str(x).replace(\"-\",\"\")))\n",
    "# data_M[\"Last Funding Date\"] =data_M[\"Last Funding Date\"] .apply(lambda x: int(str(x).replace(\"-\",\"\")))\n",
    "# data_IPO[\"IPO Date\"] = data_IPO[\"IPO Date\"].apply(lambda x: int(str(x).replace(\"-\",\"\")))\n",
    "# data_IPO[\"Last Funding Date\"] = data_IPO[\"Last Funding Date\"].apply(lambda x: int(str(x).replace(\"-\",\"\")))\n",
    "# M_list = set(data[\"Last Funding Date\"][data[\"Last Funding Date\"] > data[\"Announced Date\"]].index)\n",
    "# IPO_list = set(data[\"Last Funding Date\"][data[\"Last Funding Date\"] > data[\"IPO Date\"]].index)\n",
    "\n",
    "# total_list = list(M_list.union(IPO_list))\n",
    "# data_M[\"Announced Date\"] =data_M[\"Announced Date\"] .apply(lambda x: int(str(x).replace(\"-\",\"\")))\n",
    "# data_M[\"Last Funding Date\"] =data_M[\"Last Funding Date\"] .apply(lambda x: int(str(x).replace(\"-\",\"\")))\n",
    "#IPO_list = list(set(IPO_list) - {\"6634\",\"7231\",\"8705\",\"8845\",\"11405\",\"11494\",\"11965\",\"12749\",\"23725\",\"25275\",\"29348\",\"30270\"})\n",
    "\n",
    "\n",
    "# data = data.drop(total_list)\n",
    "\n",
    "# data_IPO = data_IPO[data_IPO[\"IPO Date\"] > data_IPO[\"Last Funding Date\"]]\n",
    "# data_M = data_M[data_M[\"Announced Date\"] > data_M[\"Last Funding Date\"]]\n",
    "\n",
    "# data_IPO.rename(columns = {\"Last Funding Date\":\"K\"})\n",
    "# data_IPO.rename(columns = {\"IPO Date\":\"Last Funding Date\"})\n",
    "\n",
    "# data_M.rename(columns = {\"Last Funding Date\":\"K\"})\n",
    "# data_M.rename(columns = {\"Announced Date\":\"Last Funding Date\"})\n",
    "\n",
    "# data = pd.concat([data, data_IPO])\n",
    "# data = pd.concat([data, data_M])\n",
    "data = data.sort_values(by='Last Funding Date' ,ascending=False).reset_index()"
   ]
  },
  {
   "cell_type": "code",
   "execution_count": 8,
   "metadata": {
    "scrolled": true
   },
   "outputs": [],
   "source": [
    "a_list = set(data[data[\"Founded Date\"]  > data[\"IPO Date\"] ].index)\n",
    "b_list = set(data[data[\"Founded Date\"]  > data[\"Announced Date\"] ].index)\n",
    "c_list = set(data[data[\"Founded Date\"]  > data[\"Last Funding Date\"] ].index)\n",
    "t_list = list(c_list.union(a_list.union(b_list)))\n",
    "data = data.drop(t_list)"
   ]
  },
  {
   "cell_type": "code",
   "execution_count": 9,
   "metadata": {},
   "outputs": [],
   "source": [
    "#논문에서 스타트업 성공 정의 - M&A , IPO\n",
    "#성공은 1 아닌건 0\n",
    "#funding status열 에서 M&A,IPO 한 기업들만 success열에 넣기\n",
    "data[\"success\"]=data[\"Funding Status\"].isin(['M&A', 'IPO']).astype(int)"
   ]
  },
  {
   "cell_type": "code",
   "execution_count": 10,
   "metadata": {},
   "outputs": [
    {
     "data": {
      "text/plain": [
       "2861"
      ]
     },
     "execution_count": 10,
     "metadata": {},
     "output_type": "execute_result"
    }
   ],
   "source": [
    "len(data[\"success\"][data[\"success\"]==1])"
   ]
  },
  {
   "cell_type": "code",
   "execution_count": 11,
   "metadata": {},
   "outputs": [
    {
     "data": {
      "text/html": [
       "<div>\n",
       "<style scoped>\n",
       "    .dataframe tbody tr th:only-of-type {\n",
       "        vertical-align: middle;\n",
       "    }\n",
       "\n",
       "    .dataframe tbody tr th {\n",
       "        vertical-align: top;\n",
       "    }\n",
       "\n",
       "    .dataframe thead th {\n",
       "        text-align: right;\n",
       "    }\n",
       "</style>\n",
       "<table border=\"1\" class=\"dataframe\">\n",
       "  <thead>\n",
       "    <tr style=\"text-align: right;\">\n",
       "      <th></th>\n",
       "      <th>index</th>\n",
       "      <th>Organization Name</th>\n",
       "      <th>Organization Name URL</th>\n",
       "      <th>Industries</th>\n",
       "      <th>Headquarters Location</th>\n",
       "      <th>Description</th>\n",
       "      <th>CB Rank (Company)</th>\n",
       "      <th>Estimated Revenue Range</th>\n",
       "      <th>Operating Status</th>\n",
       "      <th>Founded Date</th>\n",
       "      <th>Founded Date Precision</th>\n",
       "      <th>Company Type</th>\n",
       "      <th>Number of Articles</th>\n",
       "      <th>Industry Groups</th>\n",
       "      <th>Number of Founders</th>\n",
       "      <th>Founders</th>\n",
       "      <th>Number of Employees</th>\n",
       "      <th>Number of Funding Rounds</th>\n",
       "      <th>Funding Status</th>\n",
       "      <th>Last Funding Date</th>\n",
       "      <th>Last Funding Amount</th>\n",
       "      <th>Last Funding Amount Currency</th>\n",
       "      <th>Last Funding Amount Currency (in USD)</th>\n",
       "      <th>Last Funding Type</th>\n",
       "      <th>Last Equity Funding Amount</th>\n",
       "      <th>Last Equity Funding Amount Currency</th>\n",
       "      <th>Last Equity Funding Amount Currency (in USD)</th>\n",
       "      <th>Last Equity Funding Type</th>\n",
       "      <th>Total Equity Funding Amount</th>\n",
       "      <th>Total Equity Funding Amount Currency</th>\n",
       "      <th>Total Equity Funding Amount Currency (in USD)</th>\n",
       "      <th>Total Funding Amount</th>\n",
       "      <th>Total Funding Amount Currency</th>\n",
       "      <th>Total Funding Amount Currency (in USD)</th>\n",
       "      <th>Top 5 Investors</th>\n",
       "      <th>Number of Lead Investors</th>\n",
       "      <th>Number of Investors</th>\n",
       "      <th>Number of Events</th>\n",
       "      <th>G2 Stack - Total Products Active</th>\n",
       "      <th>IPqwery - Patents Granted</th>\n",
       "      <th>IPqwery - Trademarks Registered</th>\n",
       "      <th>Announced Date</th>\n",
       "      <th>Announced Date Precision</th>\n",
       "      <th>IPO Status</th>\n",
       "      <th>IPO Date</th>\n",
       "      <th>Price</th>\n",
       "      <th>Price Currency</th>\n",
       "      <th>Price Currency (in USD)</th>\n",
       "      <th>Acquisition Status</th>\n",
       "      <th>Money Raised at IPO</th>\n",
       "      <th>Money Raised at IPO Currency</th>\n",
       "      <th>Money Raised at IPO Currency (in USD)</th>\n",
       "      <th>Administrative_Services</th>\n",
       "      <th>Advertising</th>\n",
       "      <th>Agriculture</th>\n",
       "      <th>Apps</th>\n",
       "      <th>Artificial_Intelligence</th>\n",
       "      <th>Biotechnology</th>\n",
       "      <th>Clothing_Apparel</th>\n",
       "      <th>Commerce_and_Shopping</th>\n",
       "      <th>Community_Lifestyle</th>\n",
       "      <th>Consumer_Electronics</th>\n",
       "      <th>Consumer_Goods</th>\n",
       "      <th>Content_Publishing</th>\n",
       "      <th>Data_Analytics</th>\n",
       "      <th>Design</th>\n",
       "      <th>Education</th>\n",
       "      <th>Energy</th>\n",
       "      <th>Events</th>\n",
       "      <th>Financial_Services</th>\n",
       "      <th>Food_Beverage</th>\n",
       "      <th>Gaming</th>\n",
       "      <th>Government_Military</th>\n",
       "      <th>Hardware</th>\n",
       "      <th>Health_care</th>\n",
       "      <th>Information_Technology</th>\n",
       "      <th>Lending_Investments</th>\n",
       "      <th>Internet_Services</th>\n",
       "      <th>Manufacturing</th>\n",
       "      <th>Media_Entertainment</th>\n",
       "      <th>Messaging_Telecommunications</th>\n",
       "      <th>Mobile</th>\n",
       "      <th>Music_Audio</th>\n",
       "      <th>Natural_Resources</th>\n",
       "      <th>Navigation_Mapping</th>\n",
       "      <th>Payments</th>\n",
       "      <th>Platforms</th>\n",
       "      <th>Privacy_Security</th>\n",
       "      <th>Professional_Services</th>\n",
       "      <th>Real_Estate</th>\n",
       "      <th>Sales_Marketing</th>\n",
       "      <th>Science_Engineering</th>\n",
       "      <th>Software</th>\n",
       "      <th>Sports</th>\n",
       "      <th>Sustainability</th>\n",
       "      <th>Transportation</th>\n",
       "      <th>Travel_Tourism</th>\n",
       "      <th>Video</th>\n",
       "      <th>success</th>\n",
       "    </tr>\n",
       "  </thead>\n",
       "  <tbody>\n",
       "    <tr>\n",
       "      <th>0</th>\n",
       "      <td>25180</td>\n",
       "      <td>FreightWaves</td>\n",
       "      <td>https://www.crunchbase.com/organization/freigh...</td>\n",
       "      <td>Analytics, Freight Service, Logistics, Predict...</td>\n",
       "      <td>Chattanooga, Tennessee, United States</td>\n",
       "      <td>FreightWaves is a data and content forum that ...</td>\n",
       "      <td>104</td>\n",
       "      <td>$1M to $10M</td>\n",
       "      <td>Active</td>\n",
       "      <td>20160601</td>\n",
       "      <td>day</td>\n",
       "      <td>For Profit</td>\n",
       "      <td>1,024</td>\n",
       "      <td>Artificial Intelligence, Data and Analytics, S...</td>\n",
       "      <td>1.0</td>\n",
       "      <td>Craig Fuller</td>\n",
       "      <td>101-250</td>\n",
       "      <td>7</td>\n",
       "      <td>Private Equity</td>\n",
       "      <td>20200724</td>\n",
       "      <td>30000000.0</td>\n",
       "      <td>USD</td>\n",
       "      <td>30000000.0</td>\n",
       "      <td>Private Equity</td>\n",
       "      <td>30000000.0</td>\n",
       "      <td>USD</td>\n",
       "      <td>30000000.0</td>\n",
       "      <td>Private Equity</td>\n",
       "      <td>76400000.0</td>\n",
       "      <td>USD</td>\n",
       "      <td>76400000.0</td>\n",
       "      <td>76400000</td>\n",
       "      <td>USD</td>\n",
       "      <td>76400000</td>\n",
       "      <td>Apple, 8VC, Revolution, Revolution’s Rise of t...</td>\n",
       "      <td>4.0</td>\n",
       "      <td>16.0</td>\n",
       "      <td>5.0</td>\n",
       "      <td>38</td>\n",
       "      <td>0</td>\n",
       "      <td>1.0</td>\n",
       "      <td>99999999</td>\n",
       "      <td>NaN</td>\n",
       "      <td>Private</td>\n",
       "      <td>99999999</td>\n",
       "      <td>NaN</td>\n",
       "      <td>NaN</td>\n",
       "      <td>NaN</td>\n",
       "      <td>Made Acquisitions</td>\n",
       "      <td>NaN</td>\n",
       "      <td>NaN</td>\n",
       "      <td>NaN</td>\n",
       "      <td>False</td>\n",
       "      <td>False</td>\n",
       "      <td>False</td>\n",
       "      <td>False</td>\n",
       "      <td>True</td>\n",
       "      <td>False</td>\n",
       "      <td>False</td>\n",
       "      <td>False</td>\n",
       "      <td>False</td>\n",
       "      <td>False</td>\n",
       "      <td>False</td>\n",
       "      <td>False</td>\n",
       "      <td>True</td>\n",
       "      <td>False</td>\n",
       "      <td>False</td>\n",
       "      <td>False</td>\n",
       "      <td>False</td>\n",
       "      <td>False</td>\n",
       "      <td>False</td>\n",
       "      <td>False</td>\n",
       "      <td>False</td>\n",
       "      <td>False</td>\n",
       "      <td>False</td>\n",
       "      <td>False</td>\n",
       "      <td>False</td>\n",
       "      <td>False</td>\n",
       "      <td>False</td>\n",
       "      <td>False</td>\n",
       "      <td>False</td>\n",
       "      <td>False</td>\n",
       "      <td>False</td>\n",
       "      <td>False</td>\n",
       "      <td>False</td>\n",
       "      <td>False</td>\n",
       "      <td>False</td>\n",
       "      <td>False</td>\n",
       "      <td>False</td>\n",
       "      <td>False</td>\n",
       "      <td>False</td>\n",
       "      <td>False</td>\n",
       "      <td>True</td>\n",
       "      <td>False</td>\n",
       "      <td>False</td>\n",
       "      <td>True</td>\n",
       "      <td>False</td>\n",
       "      <td>False</td>\n",
       "      <td>0</td>\n",
       "    </tr>\n",
       "  </tbody>\n",
       "</table>\n",
       "</div>"
      ],
      "text/plain": [
       "   index Organization Name                              Organization Name URL  \\\n",
       "0  25180      FreightWaves  https://www.crunchbase.com/organization/freigh...   \n",
       "\n",
       "                                          Industries  \\\n",
       "0  Analytics, Freight Service, Logistics, Predict...   \n",
       "\n",
       "                   Headquarters Location  \\\n",
       "0  Chattanooga, Tennessee, United States   \n",
       "\n",
       "                                         Description CB Rank (Company)  \\\n",
       "0  FreightWaves is a data and content forum that ...               104   \n",
       "\n",
       "  Estimated Revenue Range Operating Status  Founded Date  \\\n",
       "0             $1M to $10M           Active      20160601   \n",
       "\n",
       "  Founded Date Precision Company Type Number of Articles  \\\n",
       "0                    day   For Profit              1,024   \n",
       "\n",
       "                                     Industry Groups  Number of Founders  \\\n",
       "0  Artificial Intelligence, Data and Analytics, S...                 1.0   \n",
       "\n",
       "       Founders Number of Employees  Number of Funding Rounds  Funding Status  \\\n",
       "0  Craig Fuller             101-250                         7  Private Equity   \n",
       "\n",
       "   Last Funding Date  Last Funding Amount Last Funding Amount Currency  \\\n",
       "0           20200724           30000000.0                          USD   \n",
       "\n",
       "   Last Funding Amount Currency (in USD) Last Funding Type  \\\n",
       "0                             30000000.0    Private Equity   \n",
       "\n",
       "   Last Equity Funding Amount Last Equity Funding Amount Currency  \\\n",
       "0                  30000000.0                                 USD   \n",
       "\n",
       "   Last Equity Funding Amount Currency (in USD) Last Equity Funding Type  \\\n",
       "0                                    30000000.0           Private Equity   \n",
       "\n",
       "   Total Equity Funding Amount Total Equity Funding Amount Currency  \\\n",
       "0                   76400000.0                                  USD   \n",
       "\n",
       "   Total Equity Funding Amount Currency (in USD)  Total Funding Amount  \\\n",
       "0                                     76400000.0              76400000   \n",
       "\n",
       "  Total Funding Amount Currency  Total Funding Amount Currency (in USD)  \\\n",
       "0                           USD                                76400000   \n",
       "\n",
       "                                     Top 5 Investors  \\\n",
       "0  Apple, 8VC, Revolution, Revolution’s Rise of t...   \n",
       "\n",
       "   Number of Lead Investors  Number of Investors  Number of Events  \\\n",
       "0                       4.0                 16.0               5.0   \n",
       "\n",
       "  G2 Stack - Total Products Active IPqwery - Patents Granted  \\\n",
       "0                               38                         0   \n",
       "\n",
       "  IPqwery - Trademarks Registered  Announced Date Announced Date Precision  \\\n",
       "0                             1.0        99999999                      NaN   \n",
       "\n",
       "  IPO Status  IPO Date  Price Price Currency  Price Currency (in USD)  \\\n",
       "0    Private  99999999    NaN            NaN                      NaN   \n",
       "\n",
       "  Acquisition Status  Money Raised at IPO Money Raised at IPO Currency  \\\n",
       "0  Made Acquisitions                  NaN                          NaN   \n",
       "\n",
       "   Money Raised at IPO Currency (in USD) Administrative_Services Advertising  \\\n",
       "0                                    NaN                   False       False   \n",
       "\n",
       "  Agriculture   Apps Artificial_Intelligence Biotechnology Clothing_Apparel  \\\n",
       "0       False  False                    True         False            False   \n",
       "\n",
       "  Commerce_and_Shopping Community_Lifestyle Consumer_Electronics  \\\n",
       "0                 False               False                False   \n",
       "\n",
       "  Consumer_Goods Content_Publishing Data_Analytics Design Education Energy  \\\n",
       "0          False              False           True  False     False  False   \n",
       "\n",
       "  Events Financial_Services Food_Beverage Gaming Government_Military Hardware  \\\n",
       "0  False              False         False  False               False    False   \n",
       "\n",
       "  Health_care Information_Technology Lending_Investments Internet_Services  \\\n",
       "0       False                  False               False             False   \n",
       "\n",
       "  Manufacturing Media_Entertainment Messaging_Telecommunications Mobile  \\\n",
       "0         False               False                        False  False   \n",
       "\n",
       "  Music_Audio Natural_Resources Navigation_Mapping Payments Platforms  \\\n",
       "0       False             False              False    False     False   \n",
       "\n",
       "  Privacy_Security Professional_Services Real_Estate Sales_Marketing  \\\n",
       "0            False                 False       False           False   \n",
       "\n",
       "  Science_Engineering Software Sports Sustainability Transportation  \\\n",
       "0               False     True  False          False           True   \n",
       "\n",
       "  Travel_Tourism  Video  success  \n",
       "0          False  False        0  "
      ]
     },
     "execution_count": 11,
     "metadata": {},
     "output_type": "execute_result"
    }
   ],
   "source": [
    "data.head(1)"
   ]
  },
  {
   "cell_type": "code",
   "execution_count": 12,
   "metadata": {},
   "outputs": [],
   "source": [
    "#인더스트리 넣기 \n",
    "\n",
    "in_list =('Administrative_Services',\\\n",
    "       'Advertising', 'Agriculture', 'Apps', 'Artificial_Intelligence',\\\n",
    "       'Biotechnology', 'Clothing_Apparel', 'Commerce_and_Shopping',\\\n",
    "       'Community_Lifestyle', 'Consumer_Electronics', 'Consumer_Goods',\\\n",
    "       'Content_Publishing', 'Data_Analytics', 'Design', 'Education', 'Energy',\\\n",
    "       'Events', 'Financial_Services', 'Food_Beverage', 'Gaming',\\\n",
    "       'Government_Military', 'Hardware', 'Health_care',\\\n",
    "       'Information_Technology', 'Lending_Investments', 'Internet_Services',\\\n",
    "       'Manufacturing', 'Media_Entertainment', 'Messaging_Telecommunications',\\\n",
    "       'Mobile', 'Music_Audio', 'Natural_Resources', 'Navigation_Mapping',\\\n",
    "       'Payments', 'Platforms', 'Privacy_Security', 'Professional_Services',\\\n",
    "       'Real_Estate', 'Sales_Marketing', 'Science_Engineering', 'Software',\\\n",
    "       'Sports', 'Sustainability', 'Transportation', 'Travel_Tourism',\\\n",
    "       'Video')\n",
    "\n",
    "for i in in_list:\n",
    "    \n",
    "    data.loc[data[i]>0,\"Industries\"] = i\n",
    "    "
   ]
  },
  {
   "cell_type": "code",
   "execution_count": 13,
   "metadata": {},
   "outputs": [],
   "source": [
    "#angel투자자 상위 1000 명 기준 top5 에 있으면 1 아니면 0 \n",
    "\n",
    "df_angel=pd.read_csv(\"angel_1000 (1).csv\")\n",
    "df_vc = pd.read_csv(\"vc_1000.csv\")\n",
    "df_accelator = pd.read_csv(\"accelator_1000.csv\")\n",
    "\n",
    "angel_list=list(df_angel[\"Organization/Person Name\"])\n",
    "vc_list = list(df_vc[\"Organization/Person Name\"])\n",
    "accelator_list = list(df_accelator[\"Organization/Person Name\"])\n",
    "\n",
    "a = vc_list+angel_list+accelator_list\n",
    "\n",
    "a= str(a)\n",
    "\n",
    "a =a.replace('\\'', '')\n",
    "a =a.replace('\\n','')\n",
    "a =a.replace(', ', '|' )\n",
    "a =a.replace('[', '')\n",
    "a =a.replace(']', '')\n",
    "a =a.replace(' ', '')"
   ]
  },
  {
   "cell_type": "code",
   "execution_count": 14,
   "metadata": {},
   "outputs": [
    {
     "data": {
      "text/plain": [
       "17230"
      ]
     },
     "execution_count": 14,
     "metadata": {},
     "output_type": "execute_result"
    }
   ],
   "source": [
    "data['Top 5 Investors'] = data['Top 5 Investors'].apply(lambda x: str(x).replace(\" \",\"\"))\n",
    "\n",
    "k =data['Top 5 Investors'].str.contains(a)\n",
    "k=k.fillna(False)\n",
    "data['Top 5 Investors'][k] = 1\n",
    "data['Top 5 Investors'][data['Top 5 Investors']!=1]=0\n",
    "len(data['Top 5 Investors'][data['Top 5 Investors']==0])"
   ]
  },
  {
   "cell_type": "code",
   "execution_count": 15,
   "metadata": {},
   "outputs": [
    {
     "data": {
      "text/plain": [
       "14172"
      ]
     },
     "execution_count": 15,
     "metadata": {},
     "output_type": "execute_result"
    }
   ],
   "source": [
    "len(data[\"Number of Articles\"][data[\"Number of Articles\"].isnull()])"
   ]
  },
  {
   "cell_type": "code",
   "execution_count": 16,
   "metadata": {},
   "outputs": [],
   "source": [
    "data[\"Industries\"] = data[\"Industries\"].apply(lambda x: str(x).replace(\"_\",\"\"))\n",
    "data[\"Industries\"] = data[\"Industries\"].apply(lambda x: str(x).replace(\" \",\"\"))"
   ]
  },
  {
   "cell_type": "code",
   "execution_count": 17,
   "metadata": {},
   "outputs": [],
   "source": [
    "data[\"Industries\"][data[\"Industries\"].str.contains(\"Association\")==True] = \"Association\"\n",
    "data[\"Industries\"][data[\"Industries\"].str.contains(\"B2B\")==True] = \"B2B\"\n",
    "data[\"Industries\"][data[\"Industries\"].str.contains(\"Charity\")==True] = \"NonProfit\"\n",
    "data[\"Industries\"][data[\"Industries\"].str.contains(\"NonProfit \")==True] = \"NonProfit\"\n",
    "data[\"Industries\"][data[\"Industries\"].str.contains(\"Blockchain\")==True] = \"Blockchain\"\n",
    "data[\"Industries\"][data[\"Industries\"].str.contains(\"BusinessDevelopment\")==True] = \"BusinessDevelopment\"\n",
    "data[\"Industries\"][data[\"Industries\"].str.contains(\"ServiceIndustry\")==True] = \"ServiceIndustry\"\n",
    "data[\"Industries\"][data[\"Industries\"].str.contains(\"CollaborativeConsumption\")==True] = \"CollaborativeConsumption\"\n",
    "data[\"Industries\"][data[\"Industries\"].str.contains(\"Commercial\")==True] = \"Commercial\"\n",
    "data[\"Industries\"][data[\"Industries\"].str.contains(\"InnovationManagement\")==True] = \"InnovationManagement\"\n",
    "data[\"Industries\"][data[\"Industries\"].str.contains(\"Consulting\")==True] = \"Consulting\"\n",
    "data[\"Industries\"][data[\"Industries\"].str.contains(\"CustomerService\")==True] = \"CustomerService\"\n",
    "data[\"Industries\"][data[\"Industries\"].str.contains(\"Ethereum\")==True] = \"Blockchain\"\n",
    "data[\"Industries\"][data[\"Industries\"].str.contains(\"RealTime\")==True] = \"InformationTechnology\""
   ]
  },
  {
   "cell_type": "code",
   "execution_count": 18,
   "metadata": {},
   "outputs": [],
   "source": [
    "da = pd.DataFrame(data.groupby(\"Industries\").size().reset_index())\n",
    "da.columns = [\"a\",\"b\"]\n",
    "c = list(da[da[\"b\"]<=2][\"a\"])\n",
    "d = list(data[data[\"Industries\"].isin(c)==True].index)\n",
    "data = data.drop(d)"
   ]
  },
  {
   "cell_type": "code",
   "execution_count": 20,
   "metadata": {},
   "outputs": [
    {
     "data": {
      "text/plain": [
       "Industries\n",
       "AdministrativeServices            10\n",
       "Agriculture                       72\n",
       "Association                        5\n",
       "B2B                                5\n",
       "Blockchain                         8\n",
       "BusinessDevelopment                5\n",
       "CommerceandShopping              181\n",
       "Commercial                        14\n",
       "CommunityLifestyle               101\n",
       "Consulting                        15\n",
       "Consumer                           9\n",
       "ConsumerGoods                    148\n",
       "CustomerService                    3\n",
       "DataAnalytics                     56\n",
       "Design                           300\n",
       "Education                        161\n",
       "Energy                            43\n",
       "Events                             8\n",
       "FinancialServices                559\n",
       "FoodBeverage                     498\n",
       "Gaming                            46\n",
       "GovernmentMilitary                24\n",
       "Hardware                         210\n",
       "Healthcare                      2069\n",
       "HumanResources                     7\n",
       "Industrial                         6\n",
       "InformationTechnology            685\n",
       "InnovationManagement               6\n",
       "InternetServices                 765\n",
       "LendingInvestments               351\n",
       "Manufacturing                    398\n",
       "MediaEntertainment               910\n",
       "MessagingTelecommunications       74\n",
       "Mobile                           722\n",
       "MusicAudio                       224\n",
       "NaturalResources                 125\n",
       "NavigationMapping                 66\n",
       "NonProfit                         28\n",
       "Payments                         145\n",
       "Platforms                          4\n",
       "PrivacySecurity                  411\n",
       "ProfessionalServices             449\n",
       "RealEstate                       806\n",
       "SalesMarketing                   944\n",
       "ScienceEngineering              2475\n",
       "ServiceIndustry                   13\n",
       "SharingEconomy                     3\n",
       "SmallandMediumBusinesses           3\n",
       "Software                       12258\n",
       "Sports                          1229\n",
       "Sustainability                   958\n",
       "Transportation                  1550\n",
       "TravelTourism                   1032\n",
       "Video                           1297\n",
       "nan                              350\n",
       "dtype: int64"
      ]
     },
     "execution_count": 20,
     "metadata": {},
     "output_type": "execute_result"
    }
   ],
   "source": [
    "data.groupby(\"Industries\").size()"
   ]
  },
  {
   "cell_type": "code",
   "execution_count": 19,
   "metadata": {},
   "outputs": [],
   "source": [
    "data[\"Number of Articles\"] = data[\"Number of Articles\"].fillna(0)\n",
    "data[\"Number of Articles\"] = data[\"Number of Articles\"].apply(lambda x: str(x).translate(str.maketrans(',.', '  ')))\n",
    "data[\"Number of Articles\"] = data[\"Number of Articles\"].apply(lambda x: int(str(x).replace(\" \",\"\")))\n",
    "data[\"Number of Articles\"][data[\"Number of Articles\"]>0] = 1"
   ]
  },
  {
   "cell_type": "code",
   "execution_count": 20,
   "metadata": {},
   "outputs": [],
   "source": [
    "data.loc[data['Number of Employees'] == \"1-10\",'Number of Employees']=1\n",
    "data.loc[data['Number of Employees'] ==\"11-50\",'Number of Employees']=2\n",
    "data.loc[data['Number of Employees'] ==\"51-100\",'Number of Employees']=3\n",
    "data.loc[data['Number of Employees'] ==\"101-250\",'Number of Employees']=3\n",
    "data.loc[data['Number of Employees'] ==\"251-500\",'Number of Employees']=4\n",
    "data.loc[data['Number of Employees'] ==\"501-1000\",'Number of Employees']=4\n",
    "data.loc[data['Number of Employees'] ==\"1001-5000\",'Number of Employees']=4\n",
    "data.loc[data['Number of Employees'] ==\"5001-10000\",'Number of Employees']=4\n",
    "data.loc[data['Number of Employees'] ==\"10001+\",'Number of Employees']=4"
   ]
  },
  {
   "cell_type": "code",
   "execution_count": 21,
   "metadata": {},
   "outputs": [
    {
     "name": "stdout",
     "output_type": "stream",
     "text": [
      "ModeResult(mode=array([1], dtype=object), count=array([15537]))\n"
     ]
    }
   ],
   "source": [
    "print(mode(data['Number of Employees']))\n",
    "\n",
    "data['Number of Employees'] = data['Number of Employees'].fillna(1)"
   ]
  },
  {
   "cell_type": "code",
   "execution_count": 22,
   "metadata": {},
   "outputs": [],
   "source": [
    "data.loc[data[\"Estimated Revenue Range\"] == \"Less than $1M\" ,\"Estimated Revenue Range\"] = 1\n",
    "data.loc[data[\"Estimated Revenue Range\"] == \"$1M to $10M\" ,\"Estimated Revenue Range\"] = 2\n",
    "data.loc[data[\"Estimated Revenue Range\"] == \"$10M to $50M\" ,\"Estimated Revenue Range\"] = 3\n",
    "data.loc[data[\"Estimated Revenue Range\"] == \"$50M to $100M\" ,\"Estimated Revenue Range\"] = 4\n",
    "data.loc[data[\"Estimated Revenue Range\"] == \"$100M to $500M\" ,\"Estimated Revenue Range\"] = 4\n",
    "data.loc[data[\"Estimated Revenue Range\"] == \"$500M to $1B\" ,\"Estimated Revenue Range\"] = 4\n",
    "data.loc[data[\"Estimated Revenue Range\"] == \"$1B to $10B\" ,\"Estimated Revenue Range\"] = 4\n",
    "data.loc[data[\"Estimated Revenue Range\"] == \"$10B+\" ,\"Estimated Revenue Range\"] = 4"
   ]
  },
  {
   "cell_type": "code",
   "execution_count": 23,
   "metadata": {},
   "outputs": [],
   "source": [
    "data[\"Number of Funding Rounds\"][data[\"Number of Funding Rounds\"] >9] = 10"
   ]
  },
  {
   "cell_type": "code",
   "execution_count": 24,
   "metadata": {},
   "outputs": [],
   "source": [
    "# print(mode(data[\"Estimated Revenue Range\"][data[\"Estimated Revenue Range\"]!=1000]))\n",
    "\n",
    "data[\"Estimated Revenue Range\"]=data[\"Estimated Revenue Range\"].fillna(1)"
   ]
  },
  {
   "cell_type": "code",
   "execution_count": 25,
   "metadata": {},
   "outputs": [],
   "source": [
    "data.columns = data.columns.str.replace(' ', '')\n",
    "data.columns = data.columns.str.replace('-', '')\n",
    "data.columns = data.columns.str.replace('_', '')"
   ]
  },
  {
   "cell_type": "code",
   "execution_count": 26,
   "metadata": {},
   "outputs": [
    {
     "data": {
      "text/plain": [
       "2519"
      ]
     },
     "execution_count": 26,
     "metadata": {},
     "output_type": "execute_result"
    }
   ],
   "source": [
    "len(data[\"TotalEquityFundingAmount\"][data[\"TotalEquityFundingAmount\"].isnull()])"
   ]
  },
  {
   "cell_type": "code",
   "execution_count": 27,
   "metadata": {},
   "outputs": [],
   "source": [
    "data.columns = data.columns.str.replace(' ', '')\n",
    "data.columns = data.columns.str.replace('-', '')\n",
    "data[\"CBRank\"]=data[\"CBRank(Company)\"]"
   ]
  },
  {
   "cell_type": "code",
   "execution_count": 28,
   "metadata": {},
   "outputs": [
    {
     "data": {
      "text/plain": [
       "62"
      ]
     },
     "execution_count": 28,
     "metadata": {},
     "output_type": "execute_result"
    }
   ],
   "source": [
    "len(data[\"CBRank\"][data[\"CBRank\"].isnull()])"
   ]
  },
  {
   "cell_type": "code",
   "execution_count": 29,
   "metadata": {},
   "outputs": [],
   "source": [
    "# data[\"FundingStatus\"] =data[\"FundingStatus\"].fillna(1234)\n",
    "# data[\"FundingStatus\"][data[\"FundingStatus\"] == 1234] = \"Seed\"\n",
    "# data[\"FundingStatus\"][data[\"FundingStatus\"] == \"IPO\"] = \"Sucess\"\n",
    "# data[\"FundingStatus\"][data[\"FundingStatus\"] == \"M&A\"] = \"Sucess\"\n",
    "# data[\"FundingStatus\"][data[\"FundingStatus\"] == 1234] = \"Seed\"\n",
    "# data[\"FundingStatus\"][data[\"FundingStatus\"] == 1234] = \"Seed\""
   ]
  },
  {
   "cell_type": "code",
   "execution_count": 30,
   "metadata": {},
   "outputs": [],
   "source": [
    "# data = pd.concat([data,pd.get_dummies(data[\"FundingStatus\"])],axis = 1)# 원핫인코딩 실행"
   ]
  },
  {
   "cell_type": "code",
   "execution_count": 31,
   "metadata": {},
   "outputs": [],
   "source": [
    "data[\"IPqweryPatentsGranted\"] = data[\"IPqweryPatentsGranted\"].fillna(0)\n",
    "data[\"IPqweryPatentsGranted\"] = data[\"IPqweryPatentsGranted\"].apply(lambda x: str(x).translate(str.maketrans(',.', '  ')))\n",
    "data[\"IPqweryPatentsGranted\"] = data[\"IPqweryPatentsGranted\"].apply(lambda x: int(str(x).replace(\" \",\"\")))\n",
    "data[\"IPqweryPatentsGranted\"][data[\"IPqweryPatentsGranted\"]>0] = 1"
   ]
  },
  {
   "cell_type": "code",
   "execution_count": 32,
   "metadata": {},
   "outputs": [
    {
     "data": {
      "text/plain": [
       "0"
      ]
     },
     "execution_count": 32,
     "metadata": {},
     "output_type": "execute_result"
    }
   ],
   "source": [
    "len(data['NumberofEmployees'][data['NumberofEmployees'].isnull()])"
   ]
  },
  {
   "cell_type": "code",
   "execution_count": 33,
   "metadata": {},
   "outputs": [
    {
     "data": {
      "text/plain": [
       "0"
      ]
     },
     "execution_count": 33,
     "metadata": {},
     "output_type": "execute_result"
    }
   ],
   "source": [
    "len(data[\"IPqweryPatentsGranted\"][data[\"IPqweryPatentsGranted\"].isnull()])"
   ]
  },
  {
   "cell_type": "code",
   "execution_count": 34,
   "metadata": {},
   "outputs": [
    {
     "data": {
      "text/plain": [
       "14522"
      ]
     },
     "execution_count": 34,
     "metadata": {},
     "output_type": "execute_result"
    }
   ],
   "source": [
    "len(data[\"G2StackTotalProductsActive\"][data[\"G2StackTotalProductsActive\"].isnull()])"
   ]
  },
  {
   "cell_type": "code",
   "execution_count": 35,
   "metadata": {},
   "outputs": [],
   "source": [
    "# print(mode(data[\"IPqweryPatentsGranted\"][data[\"IPqweryPatentsGranted\"] !=1000]))\n",
    "\n",
    "# data[\"IPqweryPatentsGranted\"] = data[\"IPqweryPatentsGranted\"].fillna(0)"
   ]
  },
  {
   "cell_type": "code",
   "execution_count": 36,
   "metadata": {},
   "outputs": [],
   "source": [
    "data[\"G2StackTotalProductsActive\"] = data[\"G2StackTotalProductsActive\"].fillna(0)\n",
    "data[\"G2StackTotalProductsActive\"] = data[\"G2StackTotalProductsActive\"].apply(lambda x: str(x).translate(str.maketrans(',.', '  ')))\n",
    "data[\"G2StackTotalProductsActive\"] = data[\"G2StackTotalProductsActive\"].apply(lambda x: int(str(x).replace(\" \",\"\")))\n",
    "data[\"G2StackTotalProductsActive\"][data[\"G2StackTotalProductsActive\"]>0] = 1"
   ]
  },
  {
   "cell_type": "code",
   "execution_count": 37,
   "metadata": {},
   "outputs": [
    {
     "data": {
      "text/plain": [
       "5248"
      ]
     },
     "execution_count": 37,
     "metadata": {},
     "output_type": "execute_result"
    }
   ],
   "source": [
    "len(data[\"NumberofFounders\"][data[\"NumberofFounders\"].isnull()])"
   ]
  },
  {
   "cell_type": "code",
   "execution_count": 38,
   "metadata": {},
   "outputs": [],
   "source": [
    "data[\"NumberofFounders\"] = data[\"NumberofFounders\"].fillna(1)"
   ]
  },
  {
   "cell_type": "code",
   "execution_count": 39,
   "metadata": {},
   "outputs": [],
   "source": [
    "#data[\"LastFundingAmount\"] = data[\"LastFundingAmount\"].fillna(100000)"
   ]
  },
  {
   "cell_type": "code",
   "execution_count": 40,
   "metadata": {},
   "outputs": [],
   "source": [
    "#data[\"LastEquityFundingAmount\"] = data[\"LastEquityFundingAmount\"].fillna(100000)"
   ]
  },
  {
   "cell_type": "code",
   "execution_count": 41,
   "metadata": {},
   "outputs": [],
   "source": [
    "#len(data['TotalEquityFundingAmount'][data['TotalEquityFundingAmount'].isnull()])"
   ]
  },
  {
   "cell_type": "code",
   "execution_count": 42,
   "metadata": {},
   "outputs": [],
   "source": [
    "#data['TotalEquityFundingAmount'] = data['TotalEquityFundingAmount'].fillna(100000)"
   ]
  },
  {
   "cell_type": "code",
   "execution_count": 43,
   "metadata": {},
   "outputs": [
    {
     "data": {
      "text/plain": [
       "19422"
      ]
     },
     "execution_count": 43,
     "metadata": {},
     "output_type": "execute_result"
    }
   ],
   "source": [
    "len(data[\"NumberofLeadInvestors\"][data[\"NumberofLeadInvestors\"].isnull()])"
   ]
  },
  {
   "cell_type": "code",
   "execution_count": 44,
   "metadata": {},
   "outputs": [],
   "source": [
    "data[\"NumberofLeadInvestors\"] = data[\"NumberofLeadInvestors\"].fillna(0)"
   ]
  },
  {
   "cell_type": "code",
   "execution_count": 45,
   "metadata": {},
   "outputs": [],
   "source": [
    "data[\"NumberofLeadInvestors\"][data[\"NumberofLeadInvestors\"]>0] = 1"
   ]
  },
  {
   "cell_type": "code",
   "execution_count": 46,
   "metadata": {},
   "outputs": [
    {
     "data": {
      "text/plain": [
       "11144"
      ]
     },
     "execution_count": 46,
     "metadata": {},
     "output_type": "execute_result"
    }
   ],
   "source": [
    "len(data['NumberofInvestors'][data['NumberofInvestors'].isnull()])"
   ]
  },
  {
   "cell_type": "code",
   "execution_count": 47,
   "metadata": {},
   "outputs": [],
   "source": [
    "data['NumberofInvestors'] = data['NumberofInvestors'].fillna(1)"
   ]
  },
  {
   "cell_type": "code",
   "execution_count": 48,
   "metadata": {},
   "outputs": [
    {
     "data": {
      "text/plain": [
       "25702"
      ]
     },
     "execution_count": 48,
     "metadata": {},
     "output_type": "execute_result"
    }
   ],
   "source": [
    "len(data['NumberofEvents'][data['NumberofEvents'].isnull()])"
   ]
  },
  {
   "cell_type": "code",
   "execution_count": 49,
   "metadata": {},
   "outputs": [],
   "source": [
    "data['NumberofEvents'] = data['NumberofEvents'].fillna(0)\n",
    "data['NumberofEvents'][data['NumberofEvents']>0] = 1"
   ]
  },
  {
   "cell_type": "code",
   "execution_count": 50,
   "metadata": {},
   "outputs": [
    {
     "data": {
      "text/plain": [
       "19064"
      ]
     },
     "execution_count": 50,
     "metadata": {},
     "output_type": "execute_result"
    }
   ],
   "source": [
    "len(data[\"IPqweryTrademarksRegistered\"][data[\"IPqweryTrademarksRegistered\"].isnull()])"
   ]
  },
  {
   "cell_type": "code",
   "execution_count": 51,
   "metadata": {},
   "outputs": [],
   "source": [
    "data[\"IPqweryTrademarksRegistered\"] = data[\"IPqweryTrademarksRegistered\"].fillna(0)\n",
    "data[\"IPqweryTrademarksRegistered\"] = data[\"IPqweryTrademarksRegistered\"].apply(lambda x: str(x).translate(str.maketrans(',.', '  ')))\n",
    "data[\"IPqweryTrademarksRegistered\"] = data[\"IPqweryTrademarksRegistered\"].apply(lambda x: int(str(x).replace(\" \",\"\")))\n",
    "data[\"IPqweryTrademarksRegistered\"][data[\"IPqweryTrademarksRegistered\"]>0]=1"
   ]
  },
  {
   "cell_type": "code",
   "execution_count": 52,
   "metadata": {},
   "outputs": [],
   "source": [
    "# M&A,ipo 데이터 시계열 만들기\n",
    "\n",
    "# data[\"IPO Date\"] = data[\"IPO Date\"].fillna(0)\n",
    "# data[\"Announced Date\"] =data[\"Announced Date\"].fillna(0)\n",
    "\n",
    "# IPO  =data[data[\"IPO Date\"] !=0]\n",
    "# Announced = data[data[\"Announced Date\"] != 0]\n",
    "\n",
    "# data[\"sweet\"]=IPO[\"IPO Date\"]\n",
    "# data[\"sweet\"] = Announced[\"Announced Date\"]\n",
    "\n",
    "# sweet_day =data[\"sweet\"].dropna()\n",
    "# sweet_day_1 =sweet_day.drop_duplicates()\n",
    "# sweet_day_num= sweet_day.groupby(sweet_day).size()\n",
    "\n",
    "# plt.rcParams[\"figure.figsize\"] = (20,10)\n",
    "# plt.plot(sweet_day_1,sweet_day_num)\n",
    "# plt.show()"
   ]
  },
  {
   "cell_type": "code",
   "execution_count": 53,
   "metadata": {},
   "outputs": [],
   "source": [
    "# funding _date 받은 회사 기준 시계열\n",
    "\n",
    "# Funding_date = data[\"Last Funding Date\"].sort_values()\n",
    "# Funding_date_num =Funding_date.groupby(Funding_date).size()\n",
    "# Funding_date =Funding_date.drop_duplicates()\n",
    "\n",
    "\n",
    "# plt.rcParams[\"figure.figsize\"] = (20,10)\n",
    "# plt.plot(Funding_date,Funding_date_num)\n",
    "# plt.show()\n"
   ]
  },
  {
   "cell_type": "code",
   "execution_count": 54,
   "metadata": {
    "scrolled": false
   },
   "outputs": [],
   "source": [
    "# 본격적인 데이터 분석을 위한 데이터 컬럼 정리\n",
    "# data = data.sort_values(by='LastFundingDate' ,ascending=True).reset_index()\n",
    "#data = data[['OrganizationName', 'HeadquartersLocation','EstimatedRevenueRange', 'FoundedDate', 'IndustryGroups',\\\n",
    "#     'NumberofEmployees', 'FundingStatus', 'LastFundingDate','TotalFundingAmountCurrency', 'Top5Investors', 'NumberofLeadInvestors',\\\n",
    "#    'NumberofInvestors', 'IPqweryPatentsGranted','CBRank','IPqweryTrademarksRegistered','AnnouncedDate', 'IPODate', 'success']]"
   ]
  },
  {
   "cell_type": "code",
   "execution_count": 55,
   "metadata": {},
   "outputs": [],
   "source": [
    "data = data[[\"Industries\",\"HeadquartersLocation\",\"CBRank\",\"EstimatedRevenueRange\",\"NumberofArticles\",\"NumberofFounders\",\"NumberofEmployees\",\n",
    "\"NumberofFundingRounds\",\"TotalEquityFundingAmount\",\"TotalFundingAmount\",\n",
    "\"Top5Investors\",\"NumberofLeadInvestors\",\"NumberofInvestors\",\"NumberofEvents\",\"G2StackTotalProductsActive\",\"IPqweryPatentsGranted\",\n",
    "             \"IPqweryTrademarksRegistered\",\"FundingStatus\",\"success\"]]"
   ]
  },
  {
   "cell_type": "code",
   "execution_count": 56,
   "metadata": {},
   "outputs": [],
   "source": [
    "data[\"CBRank\"] = data[\"CBRank\"].apply(lambda x: str(x).replace(\",\", \"\"))\n",
    "data[\"HeadquartersLocation\"]= data[\"HeadquartersLocation\"].str.contains('California').astype(int)\n",
    "data['Industries'] = data['Industries'].apply(lambda x: str(x).replace(\"2\",\"to\"))\n",
    "\n",
    "le = LabelEncoder()\n",
    "le.fit(data['Industries'])\n",
    "data['Industries'] = le.transform(data['Industries'])"
   ]
  },
  {
   "cell_type": "code",
   "execution_count": 57,
   "metadata": {},
   "outputs": [
    {
     "data": {
      "text/plain": [
       "62"
      ]
     },
     "execution_count": 57,
     "metadata": {},
     "output_type": "execute_result"
    }
   ],
   "source": [
    "len(list(data[data.values == \"nan\"].index))"
   ]
  },
  {
   "cell_type": "code",
   "execution_count": 58,
   "metadata": {},
   "outputs": [],
   "source": [
    "cb_index = list(data[data.values == \"nan\"].index)"
   ]
  },
  {
   "cell_type": "code",
   "execution_count": 59,
   "metadata": {},
   "outputs": [],
   "source": [
    "data = data.drop(cb_index)"
   ]
  },
  {
   "cell_type": "code",
   "execution_count": 60,
   "metadata": {},
   "outputs": [
    {
     "name": "stdout",
     "output_type": "stream",
     "text": [
      "2861\n",
      "============\n",
      "19\n"
     ]
    }
   ],
   "source": [
    "print(len(data[data[\"success\"]==1]))\n",
    "print(\"============\")\n",
    "print(len(data.columns))"
   ]
  },
  {
   "cell_type": "code",
   "execution_count": 61,
   "metadata": {},
   "outputs": [],
   "source": [
    "X = data[[\"TotalFundingAmount\",\"TotalEquityFundingAmount\",]]\n",
    "X_r = data[[\"HeadquartersLocation\",\"Top5Investors\",\"IPqweryTrademarksRegistered\",\"NumberofLeadInvestors\",\"NumberofEvents\",\"NumberofArticles\",\"Industries\",\n",
    "            \"G2StackTotalProductsActive\",\"IPqweryPatentsGranted\",\"NumberofInvestors\",\"EstimatedRevenueRange\",\"NumberofFounders\",\"NumberofEmployees\",\n",
    "            \"NumberofFundingRounds\",\"success\"]]"
   ]
  },
  {
   "cell_type": "code",
   "execution_count": 62,
   "metadata": {},
   "outputs": [],
   "source": [
    "robust_scaler =RobustScaler()\n",
    "rb = robust_scaler.fit(X)\n",
    "output = robust_scaler.transform(X)\n",
    "output = pd.DataFrame(output, columns=X.columns, index=list(X.index.values))"
   ]
  },
  {
   "cell_type": "code",
   "execution_count": 63,
   "metadata": {},
   "outputs": [],
   "source": [
    "output =pd.concat([X,X_r], axis = 1)"
   ]
  },
  {
   "cell_type": "code",
   "execution_count": 64,
   "metadata": {},
   "outputs": [
    {
     "data": {
      "text/html": [
       "<div>\n",
       "<style scoped>\n",
       "    .dataframe tbody tr th:only-of-type {\n",
       "        vertical-align: middle;\n",
       "    }\n",
       "\n",
       "    .dataframe tbody tr th {\n",
       "        vertical-align: top;\n",
       "    }\n",
       "\n",
       "    .dataframe thead th {\n",
       "        text-align: right;\n",
       "    }\n",
       "</style>\n",
       "<table border=\"1\" class=\"dataframe\">\n",
       "  <thead>\n",
       "    <tr style=\"text-align: right;\">\n",
       "      <th></th>\n",
       "      <th>TotalFundingAmount</th>\n",
       "      <th>TotalEquityFundingAmount</th>\n",
       "      <th>HeadquartersLocation</th>\n",
       "      <th>Top5Investors</th>\n",
       "      <th>IPqweryTrademarksRegistered</th>\n",
       "      <th>NumberofLeadInvestors</th>\n",
       "      <th>NumberofEvents</th>\n",
       "      <th>NumberofArticles</th>\n",
       "      <th>Industries</th>\n",
       "      <th>G2StackTotalProductsActive</th>\n",
       "      <th>IPqweryPatentsGranted</th>\n",
       "      <th>NumberofInvestors</th>\n",
       "      <th>EstimatedRevenueRange</th>\n",
       "      <th>NumberofFounders</th>\n",
       "      <th>NumberofEmployees</th>\n",
       "      <th>NumberofFundingRounds</th>\n",
       "      <th>success</th>\n",
       "    </tr>\n",
       "  </thead>\n",
       "  <tbody>\n",
       "    <tr>\n",
       "      <th>0</th>\n",
       "      <td>76400000</td>\n",
       "      <td>76400000.0</td>\n",
       "      <td>0</td>\n",
       "      <td>1</td>\n",
       "      <td>1</td>\n",
       "      <td>1.0</td>\n",
       "      <td>1.0</td>\n",
       "      <td>1</td>\n",
       "      <td>51</td>\n",
       "      <td>1</td>\n",
       "      <td>0</td>\n",
       "      <td>16.0</td>\n",
       "      <td>2</td>\n",
       "      <td>1.0</td>\n",
       "      <td>3</td>\n",
       "      <td>7</td>\n",
       "      <td>0</td>\n",
       "    </tr>\n",
       "    <tr>\n",
       "      <th>1</th>\n",
       "      <td>22285000</td>\n",
       "      <td>21985000.0</td>\n",
       "      <td>0</td>\n",
       "      <td>1</td>\n",
       "      <td>0</td>\n",
       "      <td>1.0</td>\n",
       "      <td>0.0</td>\n",
       "      <td>1</td>\n",
       "      <td>29</td>\n",
       "      <td>1</td>\n",
       "      <td>0</td>\n",
       "      <td>11.0</td>\n",
       "      <td>2</td>\n",
       "      <td>3.0</td>\n",
       "      <td>2</td>\n",
       "      <td>6</td>\n",
       "      <td>0</td>\n",
       "    </tr>\n",
       "    <tr>\n",
       "      <th>3</th>\n",
       "      <td>10000000</td>\n",
       "      <td>10000000.0</td>\n",
       "      <td>1</td>\n",
       "      <td>1</td>\n",
       "      <td>0</td>\n",
       "      <td>1.0</td>\n",
       "      <td>0.0</td>\n",
       "      <td>1</td>\n",
       "      <td>41</td>\n",
       "      <td>1</td>\n",
       "      <td>0</td>\n",
       "      <td>2.0</td>\n",
       "      <td>2</td>\n",
       "      <td>1.0</td>\n",
       "      <td>2</td>\n",
       "      <td>3</td>\n",
       "      <td>0</td>\n",
       "    </tr>\n",
       "    <tr>\n",
       "      <th>4</th>\n",
       "      <td>11450000</td>\n",
       "      <td>11450000.0</td>\n",
       "      <td>1</td>\n",
       "      <td>1</td>\n",
       "      <td>0</td>\n",
       "      <td>1.0</td>\n",
       "      <td>0.0</td>\n",
       "      <td>1</td>\n",
       "      <td>48</td>\n",
       "      <td>0</td>\n",
       "      <td>0</td>\n",
       "      <td>3.0</td>\n",
       "      <td>1</td>\n",
       "      <td>1.0</td>\n",
       "      <td>2</td>\n",
       "      <td>2</td>\n",
       "      <td>0</td>\n",
       "    </tr>\n",
       "    <tr>\n",
       "      <th>5</th>\n",
       "      <td>13000000</td>\n",
       "      <td>13000000.0</td>\n",
       "      <td>1</td>\n",
       "      <td>1</td>\n",
       "      <td>0</td>\n",
       "      <td>1.0</td>\n",
       "      <td>0.0</td>\n",
       "      <td>1</td>\n",
       "      <td>53</td>\n",
       "      <td>0</td>\n",
       "      <td>0</td>\n",
       "      <td>3.0</td>\n",
       "      <td>1</td>\n",
       "      <td>3.0</td>\n",
       "      <td>2</td>\n",
       "      <td>2</td>\n",
       "      <td>0</td>\n",
       "    </tr>\n",
       "  </tbody>\n",
       "</table>\n",
       "</div>"
      ],
      "text/plain": [
       "   TotalFundingAmount  TotalEquityFundingAmount  HeadquartersLocation  \\\n",
       "0            76400000                76400000.0                     0   \n",
       "1            22285000                21985000.0                     0   \n",
       "3            10000000                10000000.0                     1   \n",
       "4            11450000                11450000.0                     1   \n",
       "5            13000000                13000000.0                     1   \n",
       "\n",
       "  Top5Investors  IPqweryTrademarksRegistered  NumberofLeadInvestors  \\\n",
       "0             1                            1                    1.0   \n",
       "1             1                            0                    1.0   \n",
       "3             1                            0                    1.0   \n",
       "4             1                            0                    1.0   \n",
       "5             1                            0                    1.0   \n",
       "\n",
       "   NumberofEvents  NumberofArticles  Industries  G2StackTotalProductsActive  \\\n",
       "0             1.0                 1          51                           1   \n",
       "1             0.0                 1          29                           1   \n",
       "3             0.0                 1          41                           1   \n",
       "4             0.0                 1          48                           0   \n",
       "5             0.0                 1          53                           0   \n",
       "\n",
       "   IPqweryPatentsGranted  NumberofInvestors  EstimatedRevenueRange  \\\n",
       "0                      0               16.0                      2   \n",
       "1                      0               11.0                      2   \n",
       "3                      0                2.0                      2   \n",
       "4                      0                3.0                      1   \n",
       "5                      0                3.0                      1   \n",
       "\n",
       "   NumberofFounders  NumberofEmployees  NumberofFundingRounds  success  \n",
       "0               1.0                  3                      7        0  \n",
       "1               3.0                  2                      6        0  \n",
       "3               1.0                  2                      3        0  \n",
       "4               1.0                  2                      2        0  \n",
       "5               3.0                  2                      2        0  "
      ]
     },
     "execution_count": 64,
     "metadata": {},
     "output_type": "execute_result"
    }
   ],
   "source": [
    "output.head()"
   ]
  },
  {
   "cell_type": "code",
   "execution_count": 65,
   "metadata": {},
   "outputs": [
    {
     "data": {
      "text/html": [
       "<div>\n",
       "<style scoped>\n",
       "    .dataframe tbody tr th:only-of-type {\n",
       "        vertical-align: middle;\n",
       "    }\n",
       "\n",
       "    .dataframe tbody tr th {\n",
       "        vertical-align: top;\n",
       "    }\n",
       "\n",
       "    .dataframe thead th {\n",
       "        text-align: right;\n",
       "    }\n",
       "</style>\n",
       "<table border=\"1\" class=\"dataframe\">\n",
       "  <thead>\n",
       "    <tr style=\"text-align: right;\">\n",
       "      <th></th>\n",
       "      <th>TotalFundingAmount</th>\n",
       "      <th>TotalEquityFundingAmount</th>\n",
       "      <th>HeadquartersLocation</th>\n",
       "      <th>IPqweryTrademarksRegistered</th>\n",
       "      <th>NumberofLeadInvestors</th>\n",
       "      <th>NumberofEvents</th>\n",
       "      <th>NumberofArticles</th>\n",
       "      <th>Industries</th>\n",
       "      <th>G2StackTotalProductsActive</th>\n",
       "      <th>IPqweryPatentsGranted</th>\n",
       "      <th>NumberofInvestors</th>\n",
       "      <th>EstimatedRevenueRange</th>\n",
       "      <th>NumberofFounders</th>\n",
       "      <th>NumberofEmployees</th>\n",
       "      <th>NumberofFundingRounds</th>\n",
       "      <th>success</th>\n",
       "    </tr>\n",
       "  </thead>\n",
       "  <tbody>\n",
       "    <tr>\n",
       "      <th>count</th>\n",
       "      <td>3.278200e+04</td>\n",
       "      <td>3.026900e+04</td>\n",
       "      <td>32782.000000</td>\n",
       "      <td>32782.000000</td>\n",
       "      <td>32782.000000</td>\n",
       "      <td>32782.000000</td>\n",
       "      <td>32782.000000</td>\n",
       "      <td>32782.000000</td>\n",
       "      <td>32782.000000</td>\n",
       "      <td>32782.000000</td>\n",
       "      <td>32782.000000</td>\n",
       "      <td>32782.000000</td>\n",
       "      <td>32782.000000</td>\n",
       "      <td>32782.000000</td>\n",
       "      <td>32782.000000</td>\n",
       "      <td>32782.000000</td>\n",
       "    </tr>\n",
       "    <tr>\n",
       "      <th>mean</th>\n",
       "      <td>1.767126e+07</td>\n",
       "      <td>1.679190e+07</td>\n",
       "      <td>0.360533</td>\n",
       "      <td>0.327497</td>\n",
       "      <td>0.409157</td>\n",
       "      <td>0.217863</td>\n",
       "      <td>0.569764</td>\n",
       "      <td>41.373803</td>\n",
       "      <td>0.557776</td>\n",
       "      <td>0.151333</td>\n",
       "      <td>3.578763</td>\n",
       "      <td>1.364865</td>\n",
       "      <td>1.832011</td>\n",
       "      <td>1.631993</td>\n",
       "      <td>2.192667</td>\n",
       "      <td>0.087274</td>\n",
       "    </tr>\n",
       "    <tr>\n",
       "      <th>std</th>\n",
       "      <td>1.299924e+08</td>\n",
       "      <td>1.204214e+08</td>\n",
       "      <td>0.480163</td>\n",
       "      <td>0.469307</td>\n",
       "      <td>0.491686</td>\n",
       "      <td>0.412800</td>\n",
       "      <td>0.495117</td>\n",
       "      <td>11.357111</td>\n",
       "      <td>0.496658</td>\n",
       "      <td>0.358379</td>\n",
       "      <td>4.784219</td>\n",
       "      <td>0.631936</td>\n",
       "      <td>1.008398</td>\n",
       "      <td>0.739371</td>\n",
       "      <td>1.613289</td>\n",
       "      <td>0.282240</td>\n",
       "    </tr>\n",
       "    <tr>\n",
       "      <th>min</th>\n",
       "      <td>1.000000e+03</td>\n",
       "      <td>1.000000e+03</td>\n",
       "      <td>0.000000</td>\n",
       "      <td>0.000000</td>\n",
       "      <td>0.000000</td>\n",
       "      <td>0.000000</td>\n",
       "      <td>0.000000</td>\n",
       "      <td>0.000000</td>\n",
       "      <td>0.000000</td>\n",
       "      <td>0.000000</td>\n",
       "      <td>0.000000</td>\n",
       "      <td>1.000000</td>\n",
       "      <td>1.000000</td>\n",
       "      <td>1.000000</td>\n",
       "      <td>1.000000</td>\n",
       "      <td>0.000000</td>\n",
       "    </tr>\n",
       "    <tr>\n",
       "      <th>25%</th>\n",
       "      <td>2.802500e+05</td>\n",
       "      <td>3.249950e+05</td>\n",
       "      <td>0.000000</td>\n",
       "      <td>0.000000</td>\n",
       "      <td>0.000000</td>\n",
       "      <td>0.000000</td>\n",
       "      <td>0.000000</td>\n",
       "      <td>33.000000</td>\n",
       "      <td>0.000000</td>\n",
       "      <td>0.000000</td>\n",
       "      <td>1.000000</td>\n",
       "      <td>1.000000</td>\n",
       "      <td>1.000000</td>\n",
       "      <td>1.000000</td>\n",
       "      <td>1.000000</td>\n",
       "      <td>0.000000</td>\n",
       "    </tr>\n",
       "    <tr>\n",
       "      <th>50%</th>\n",
       "      <td>1.585436e+06</td>\n",
       "      <td>1.750000e+06</td>\n",
       "      <td>0.000000</td>\n",
       "      <td>0.000000</td>\n",
       "      <td>0.000000</td>\n",
       "      <td>0.000000</td>\n",
       "      <td>1.000000</td>\n",
       "      <td>48.000000</td>\n",
       "      <td>1.000000</td>\n",
       "      <td>0.000000</td>\n",
       "      <td>1.000000</td>\n",
       "      <td>1.000000</td>\n",
       "      <td>2.000000</td>\n",
       "      <td>1.000000</td>\n",
       "      <td>2.000000</td>\n",
       "      <td>0.000000</td>\n",
       "    </tr>\n",
       "    <tr>\n",
       "      <th>75%</th>\n",
       "      <td>7.150000e+06</td>\n",
       "      <td>7.668750e+06</td>\n",
       "      <td>1.000000</td>\n",
       "      <td>1.000000</td>\n",
       "      <td>1.000000</td>\n",
       "      <td>0.000000</td>\n",
       "      <td>1.000000</td>\n",
       "      <td>48.000000</td>\n",
       "      <td>1.000000</td>\n",
       "      <td>0.000000</td>\n",
       "      <td>4.000000</td>\n",
       "      <td>2.000000</td>\n",
       "      <td>2.000000</td>\n",
       "      <td>2.000000</td>\n",
       "      <td>3.000000</td>\n",
       "      <td>0.000000</td>\n",
       "    </tr>\n",
       "    <tr>\n",
       "      <th>max</th>\n",
       "      <td>1.512903e+10</td>\n",
       "      <td>1.351080e+10</td>\n",
       "      <td>1.000000</td>\n",
       "      <td>1.000000</td>\n",
       "      <td>1.000000</td>\n",
       "      <td>1.000000</td>\n",
       "      <td>1.000000</td>\n",
       "      <td>54.000000</td>\n",
       "      <td>1.000000</td>\n",
       "      <td>1.000000</td>\n",
       "      <td>103.000000</td>\n",
       "      <td>4.000000</td>\n",
       "      <td>11.000000</td>\n",
       "      <td>4.000000</td>\n",
       "      <td>10.000000</td>\n",
       "      <td>1.000000</td>\n",
       "    </tr>\n",
       "  </tbody>\n",
       "</table>\n",
       "</div>"
      ],
      "text/plain": [
       "       TotalFundingAmount  TotalEquityFundingAmount  HeadquartersLocation  \\\n",
       "count        3.278200e+04              3.026900e+04          32782.000000   \n",
       "mean         1.767126e+07              1.679190e+07              0.360533   \n",
       "std          1.299924e+08              1.204214e+08              0.480163   \n",
       "min          1.000000e+03              1.000000e+03              0.000000   \n",
       "25%          2.802500e+05              3.249950e+05              0.000000   \n",
       "50%          1.585436e+06              1.750000e+06              0.000000   \n",
       "75%          7.150000e+06              7.668750e+06              1.000000   \n",
       "max          1.512903e+10              1.351080e+10              1.000000   \n",
       "\n",
       "       IPqweryTrademarksRegistered  NumberofLeadInvestors  NumberofEvents  \\\n",
       "count                 32782.000000           32782.000000    32782.000000   \n",
       "mean                      0.327497               0.409157        0.217863   \n",
       "std                       0.469307               0.491686        0.412800   \n",
       "min                       0.000000               0.000000        0.000000   \n",
       "25%                       0.000000               0.000000        0.000000   \n",
       "50%                       0.000000               0.000000        0.000000   \n",
       "75%                       1.000000               1.000000        0.000000   \n",
       "max                       1.000000               1.000000        1.000000   \n",
       "\n",
       "       NumberofArticles    Industries  G2StackTotalProductsActive  \\\n",
       "count      32782.000000  32782.000000                32782.000000   \n",
       "mean           0.569764     41.373803                    0.557776   \n",
       "std            0.495117     11.357111                    0.496658   \n",
       "min            0.000000      0.000000                    0.000000   \n",
       "25%            0.000000     33.000000                    0.000000   \n",
       "50%            1.000000     48.000000                    1.000000   \n",
       "75%            1.000000     48.000000                    1.000000   \n",
       "max            1.000000     54.000000                    1.000000   \n",
       "\n",
       "       IPqweryPatentsGranted  NumberofInvestors  EstimatedRevenueRange  \\\n",
       "count           32782.000000       32782.000000           32782.000000   \n",
       "mean                0.151333           3.578763               1.364865   \n",
       "std                 0.358379           4.784219               0.631936   \n",
       "min                 0.000000           0.000000               1.000000   \n",
       "25%                 0.000000           1.000000               1.000000   \n",
       "50%                 0.000000           1.000000               1.000000   \n",
       "75%                 0.000000           4.000000               2.000000   \n",
       "max                 1.000000         103.000000               4.000000   \n",
       "\n",
       "       NumberofFounders  NumberofEmployees  NumberofFundingRounds  \\\n",
       "count      32782.000000       32782.000000           32782.000000   \n",
       "mean           1.832011           1.631993               2.192667   \n",
       "std            1.008398           0.739371               1.613289   \n",
       "min            1.000000           1.000000               1.000000   \n",
       "25%            1.000000           1.000000               1.000000   \n",
       "50%            2.000000           1.000000               2.000000   \n",
       "75%            2.000000           2.000000               3.000000   \n",
       "max           11.000000           4.000000              10.000000   \n",
       "\n",
       "            success  \n",
       "count  32782.000000  \n",
       "mean       0.087274  \n",
       "std        0.282240  \n",
       "min        0.000000  \n",
       "25%        0.000000  \n",
       "50%        0.000000  \n",
       "75%        0.000000  \n",
       "max        1.000000  "
      ]
     },
     "execution_count": 65,
     "metadata": {},
     "output_type": "execute_result"
    }
   ],
   "source": [
    "output.describe()"
   ]
  },
  {
   "cell_type": "code",
   "execution_count": 66,
   "metadata": {},
   "outputs": [
    {
     "name": "stdout",
     "output_type": "stream",
     "text": [
      "Optimization terminated successfully.\n",
      "         Current function value: 0.269698\n",
      "         Iterations 7\n",
      "                           Logit Regression Results                           \n",
      "==============================================================================\n",
      "Dep. Variable:                success   No. Observations:                32782\n",
      "Model:                          Logit   Df Residuals:                    32772\n",
      "Method:                           MLE   Df Model:                            9\n",
      "Date:                Thu, 30 Jul 2020   Pseudo R-squ.:                 0.08942\n",
      "Time:                        15:10:30   Log-Likelihood:                -8841.3\n",
      "converged:                       True   LL-Null:                       -9709.5\n",
      "Covariance Type:            nonrobust   LLR p-value:                     0.000\n",
      "===============================================================================================\n",
      "                                  coef    std err          z      P>|z|      [0.025      0.975]\n",
      "-----------------------------------------------------------------------------------------------\n",
      "Intercept                      -4.6339      0.104    -44.419      0.000      -4.838      -4.429\n",
      "Top5Investors[T.1]              0.6540      0.048     13.503      0.000       0.559       0.749\n",
      "EstimatedRevenueRange           0.3266      0.030     10.712      0.000       0.267       0.386\n",
      "NumberofFundingRounds          -0.1075      0.015     -7.097      0.000      -0.137      -0.078\n",
      "NumberofEmployees               0.3296      0.030     11.074      0.000       0.271       0.388\n",
      "G2StackTotalProductsActive      1.0253      0.053     19.479      0.000       0.922       1.128\n",
      "HeadquartersLocation            0.0971      0.042      2.326      0.020       0.015       0.179\n",
      "NumberofInvestors               0.0206      0.004      4.802      0.000       0.012       0.029\n",
      "Industries                      0.0078      0.002      3.928      0.000       0.004       0.012\n",
      "IPqweryTrademarksRegistered    -0.2014      0.045     -4.487      0.000      -0.289      -0.113\n",
      "===============================================================================================\n"
     ]
    }
   ],
   "source": [
    "model_med = sm.Logit.from_formula(\"success ~ EstimatedRevenueRange+NumberofFundingRounds\\\n",
    "    +NumberofEmployees+Top5Investors+G2StackTotalProductsActive+HeadquartersLocation+NumberofInvestors+Industries+IPqweryTrademarksRegistered\", output)\n",
    "result_med = model_med.fit()\n",
    "print(result_med.summary())"
   ]
  },
  {
   "cell_type": "code",
   "execution_count": 67,
   "metadata": {},
   "outputs": [
    {
     "data": {
      "text/plain": [
       "Index(['TotalFundingAmount', 'TotalEquityFundingAmount',\n",
       "       'HeadquartersLocation', 'Top5Investors', 'IPqweryTrademarksRegistered',\n",
       "       'NumberofLeadInvestors', 'NumberofEvents', 'NumberofArticles',\n",
       "       'Industries', 'G2StackTotalProductsActive', 'IPqweryPatentsGranted',\n",
       "       'NumberofInvestors', 'EstimatedRevenueRange', 'NumberofFounders',\n",
       "       'NumberofEmployees', 'NumberofFundingRounds', 'success'],\n",
       "      dtype='object')"
      ]
     },
     "execution_count": 67,
     "metadata": {},
     "output_type": "execute_result"
    }
   ],
   "source": [
    "output.columns"
   ]
  },
  {
   "cell_type": "code",
   "execution_count": 68,
   "metadata": {},
   "outputs": [],
   "source": [
    "# \"EstimatedRevenueRange+NumberofFundingRounds\\\n",
    "#     +NumberofEmployees+Top5Investors+G2StackTotalProductsActive+HeadquartersLocation+NumberofInvestors+Industries+IPqweryTrademarksRegistered\"\n",
    "\n",
    "# QDQA"
   ]
  },
  {
   "cell_type": "code",
   "execution_count": 69,
   "metadata": {},
   "outputs": [],
   "source": [
    "output = output.drop(columns=['NumberofFounders',\"NumberofEvents\",\"IPqweryPatentsGranted\",\n",
    "                                                     'NumberofArticles',\"TotalFundingAmount\",\"TotalEquityFundingAmount\"])"
   ]
  },
  {
   "cell_type": "code",
   "execution_count": 70,
   "metadata": {},
   "outputs": [
    {
     "data": {
      "text/html": [
       "<div>\n",
       "<style scoped>\n",
       "    .dataframe tbody tr th:only-of-type {\n",
       "        vertical-align: middle;\n",
       "    }\n",
       "\n",
       "    .dataframe tbody tr th {\n",
       "        vertical-align: top;\n",
       "    }\n",
       "\n",
       "    .dataframe thead th {\n",
       "        text-align: right;\n",
       "    }\n",
       "</style>\n",
       "<table border=\"1\" class=\"dataframe\">\n",
       "  <thead>\n",
       "    <tr style=\"text-align: right;\">\n",
       "      <th></th>\n",
       "      <th>HeadquartersLocation</th>\n",
       "      <th>Top5Investors</th>\n",
       "      <th>IPqweryTrademarksRegistered</th>\n",
       "      <th>NumberofLeadInvestors</th>\n",
       "      <th>Industries</th>\n",
       "      <th>G2StackTotalProductsActive</th>\n",
       "      <th>NumberofInvestors</th>\n",
       "      <th>EstimatedRevenueRange</th>\n",
       "      <th>NumberofEmployees</th>\n",
       "      <th>NumberofFundingRounds</th>\n",
       "      <th>success</th>\n",
       "    </tr>\n",
       "  </thead>\n",
       "  <tbody>\n",
       "    <tr>\n",
       "      <th>0</th>\n",
       "      <td>0</td>\n",
       "      <td>1</td>\n",
       "      <td>1</td>\n",
       "      <td>1.0</td>\n",
       "      <td>51</td>\n",
       "      <td>1</td>\n",
       "      <td>16.0</td>\n",
       "      <td>2</td>\n",
       "      <td>3</td>\n",
       "      <td>7</td>\n",
       "      <td>0</td>\n",
       "    </tr>\n",
       "    <tr>\n",
       "      <th>1</th>\n",
       "      <td>0</td>\n",
       "      <td>1</td>\n",
       "      <td>0</td>\n",
       "      <td>1.0</td>\n",
       "      <td>29</td>\n",
       "      <td>1</td>\n",
       "      <td>11.0</td>\n",
       "      <td>2</td>\n",
       "      <td>2</td>\n",
       "      <td>6</td>\n",
       "      <td>0</td>\n",
       "    </tr>\n",
       "    <tr>\n",
       "      <th>3</th>\n",
       "      <td>1</td>\n",
       "      <td>1</td>\n",
       "      <td>0</td>\n",
       "      <td>1.0</td>\n",
       "      <td>41</td>\n",
       "      <td>1</td>\n",
       "      <td>2.0</td>\n",
       "      <td>2</td>\n",
       "      <td>2</td>\n",
       "      <td>3</td>\n",
       "      <td>0</td>\n",
       "    </tr>\n",
       "    <tr>\n",
       "      <th>4</th>\n",
       "      <td>1</td>\n",
       "      <td>1</td>\n",
       "      <td>0</td>\n",
       "      <td>1.0</td>\n",
       "      <td>48</td>\n",
       "      <td>0</td>\n",
       "      <td>3.0</td>\n",
       "      <td>1</td>\n",
       "      <td>2</td>\n",
       "      <td>2</td>\n",
       "      <td>0</td>\n",
       "    </tr>\n",
       "    <tr>\n",
       "      <th>5</th>\n",
       "      <td>1</td>\n",
       "      <td>1</td>\n",
       "      <td>0</td>\n",
       "      <td>1.0</td>\n",
       "      <td>53</td>\n",
       "      <td>0</td>\n",
       "      <td>3.0</td>\n",
       "      <td>1</td>\n",
       "      <td>2</td>\n",
       "      <td>2</td>\n",
       "      <td>0</td>\n",
       "    </tr>\n",
       "  </tbody>\n",
       "</table>\n",
       "</div>"
      ],
      "text/plain": [
       "   HeadquartersLocation Top5Investors  IPqweryTrademarksRegistered  \\\n",
       "0                     0             1                            1   \n",
       "1                     0             1                            0   \n",
       "3                     1             1                            0   \n",
       "4                     1             1                            0   \n",
       "5                     1             1                            0   \n",
       "\n",
       "   NumberofLeadInvestors  Industries  G2StackTotalProductsActive  \\\n",
       "0                    1.0          51                           1   \n",
       "1                    1.0          29                           1   \n",
       "3                    1.0          41                           1   \n",
       "4                    1.0          48                           0   \n",
       "5                    1.0          53                           0   \n",
       "\n",
       "   NumberofInvestors  EstimatedRevenueRange  NumberofEmployees  \\\n",
       "0               16.0                      2                  3   \n",
       "1               11.0                      2                  2   \n",
       "3                2.0                      2                  2   \n",
       "4                3.0                      1                  2   \n",
       "5                3.0                      1                  2   \n",
       "\n",
       "   NumberofFundingRounds  success  \n",
       "0                      7        0  \n",
       "1                      6        0  \n",
       "3                      3        0  \n",
       "4                      2        0  \n",
       "5                      2        0  "
      ]
     },
     "execution_count": 70,
     "metadata": {},
     "output_type": "execute_result"
    }
   ],
   "source": [
    "output.head()"
   ]
  },
  {
   "cell_type": "code",
   "execution_count": 71,
   "metadata": {},
   "outputs": [
    {
     "data": {
      "text/plain": [
       "11"
      ]
     },
     "execution_count": 71,
     "metadata": {},
     "output_type": "execute_result"
    }
   ],
   "source": [
    "len(output.columns)"
   ]
  },
  {
   "cell_type": "code",
   "execution_count": 72,
   "metadata": {},
   "outputs": [],
   "source": [
    "X = output.iloc[:,:-1]\n",
    "y = output.iloc[:,[-1]]"
   ]
  },
  {
   "cell_type": "code",
   "execution_count": 73,
   "metadata": {},
   "outputs": [
    {
     "data": {
      "text/plain": [
       "32782"
      ]
     },
     "execution_count": 73,
     "metadata": {},
     "output_type": "execute_result"
    }
   ],
   "source": [
    "len(X)"
   ]
  },
  {
   "cell_type": "code",
   "execution_count": 74,
   "metadata": {},
   "outputs": [],
   "source": [
    "from sklearn.model_selection import train_test_split\n",
    "\n",
    "X_train, X_test, y_train, y_test = train_test_split(X, y, test_size=0.3, random_state=0)#stratify=y"
   ]
  },
  {
   "cell_type": "code",
   "execution_count": 75,
   "metadata": {},
   "outputs": [],
   "source": [
    "# df_train = X.iloc[:23000]\n",
    "# df_test = X.iloc[23001:]\n",
    "# y_train = y.iloc[:23000]\n",
    "# y_test = y.iloc[23001:]"
   ]
  },
  {
   "cell_type": "code",
   "execution_count": 76,
   "metadata": {},
   "outputs": [],
   "source": [
    "# from sklearn.linear_model import LogisticRegression\n",
    "\n",
    "\n",
    "# model_sk = LogisticRegression().fit(df_train, y_train)\n",
    "# y_pred = model_sk.predict(df_test)"
   ]
  },
  {
   "cell_type": "code",
   "execution_count": 77,
   "metadata": {},
   "outputs": [],
   "source": [
    "from sklearn.linear_model import LogisticRegression\n",
    "\n",
    "\n",
    "model_sk = LogisticRegression().fit(X_train, y_train)\n",
    "y_pred = model_sk.predict(X_test)"
   ]
  },
  {
   "cell_type": "code",
   "execution_count": 78,
   "metadata": {},
   "outputs": [
    {
     "name": "stdout",
     "output_type": "stream",
     "text": [
      "              precision    recall  f1-score   support\n",
      "\n",
      "           0       0.91      1.00      0.95      8981\n",
      "           1       0.67      0.00      0.00       854\n",
      "\n",
      "    accuracy                           0.91      9835\n",
      "   macro avg       0.79      0.50      0.48      9835\n",
      "weighted avg       0.89      0.91      0.87      9835\n",
      "\n"
     ]
    }
   ],
   "source": [
    "print(classification_report(np.array(y_test), y_pred))"
   ]
  },
  {
   "cell_type": "code",
   "execution_count": 79,
   "metadata": {},
   "outputs": [],
   "source": [
    "from sklearn.metrics import classification_report, confusion_matrix\n",
    "from imblearn.under_sampling import TomekLinks, CondensedNearestNeighbour,OneSidedSelection,EditedNearestNeighbours,NeighbourhoodCleaningRule\n",
    "ncr= NeighbourhoodCleaningRule( sampling_strategy='auto')\n",
    "\n",
    "X_res,y_res = ncr.fit_sample(X,y)"
   ]
  },
  {
   "cell_type": "code",
   "execution_count": 80,
   "metadata": {},
   "outputs": [
    {
     "name": "stdout",
     "output_type": "stream",
     "text": [
      "27597\n"
     ]
    }
   ],
   "source": [
    "print(len(X_res))"
   ]
  },
  {
   "cell_type": "code",
   "execution_count": 81,
   "metadata": {},
   "outputs": [],
   "source": [
    "from sklearn.model_selection import train_test_split\n",
    "\n",
    "X_train, X_test, y_train, y_test = train_test_split(X_res, y_res, test_size=0.3, random_state=0)#stratify=y"
   ]
  },
  {
   "cell_type": "code",
   "execution_count": 82,
   "metadata": {},
   "outputs": [],
   "source": [
    "# df_train = X_res.iloc[:23000]\n",
    "# df_test = X_res.iloc[23001:]\n",
    "# y_train = y_res.iloc[:23000]\n",
    "# y_test = y_res.iloc[23001:]"
   ]
  },
  {
   "cell_type": "code",
   "execution_count": 83,
   "metadata": {},
   "outputs": [],
   "source": [
    "model_sk = LogisticRegression().fit(X_train, y_train)"
   ]
  },
  {
   "cell_type": "code",
   "execution_count": 84,
   "metadata": {},
   "outputs": [],
   "source": [
    "y_pred = model_sk.predict(X_test)"
   ]
  },
  {
   "cell_type": "code",
   "execution_count": 85,
   "metadata": {},
   "outputs": [
    {
     "name": "stdout",
     "output_type": "stream",
     "text": [
      "              precision    recall  f1-score   support\n",
      "\n",
      "           0       0.90      1.00      0.95      7414\n",
      "           1       0.71      0.03      0.07       866\n",
      "\n",
      "    accuracy                           0.90      8280\n",
      "   macro avg       0.81      0.52      0.51      8280\n",
      "weighted avg       0.88      0.90      0.85      8280\n",
      "\n"
     ]
    }
   ],
   "source": [
    "print(classification_report(np.array(y_test), y_pred))"
   ]
  },
  {
   "cell_type": "code",
   "execution_count": 86,
   "metadata": {},
   "outputs": [],
   "source": [
    "from imblearn.combine import *"
   ]
  },
  {
   "cell_type": "code",
   "execution_count": 87,
   "metadata": {},
   "outputs": [],
   "source": [
    "from imblearn.over_sampling import SMOTE,ADASYN,RandomOverSampler\n",
    "sm = SMOTE()\n",
    "X_resampled, y_resampled = sm.fit_sample(X,y)"
   ]
  },
  {
   "cell_type": "code",
   "execution_count": 88,
   "metadata": {},
   "outputs": [
    {
     "data": {
      "text/plain": [
       "(59842, 59842)"
      ]
     },
     "execution_count": 88,
     "metadata": {},
     "output_type": "execute_result"
    }
   ],
   "source": [
    "len(X_resampled),len(y_resampled)"
   ]
  },
  {
   "cell_type": "code",
   "execution_count": 89,
   "metadata": {},
   "outputs": [
    {
     "data": {
      "text/plain": [
       "29921"
      ]
     },
     "execution_count": 89,
     "metadata": {},
     "output_type": "execute_result"
    }
   ],
   "source": [
    "len(y_resampled[\"success\"][y_resampled[\"success\"] ==1])"
   ]
  },
  {
   "cell_type": "code",
   "execution_count": 102,
   "metadata": {},
   "outputs": [],
   "source": [
    "X_train, X_test, y_train, y_test = train_test_split(X_resampled, y_resampled, test_size=0.3, random_state=0)#stratify=y"
   ]
  },
  {
   "cell_type": "code",
   "execution_count": 103,
   "metadata": {},
   "outputs": [],
   "source": [
    "# df_train = X_resampled.iloc[:45000]\n",
    "# df_test = X_resampled.iloc[45001:]\n",
    "# y_train = y_resampled.iloc[:45000]\n",
    "# y_test = y_resampled.iloc[45001:]"
   ]
  },
  {
   "cell_type": "code",
   "execution_count": 104,
   "metadata": {},
   "outputs": [],
   "source": [
    "y_pred = model_sk.predict(X_test)"
   ]
  },
  {
   "cell_type": "code",
   "execution_count": 105,
   "metadata": {},
   "outputs": [
    {
     "name": "stdout",
     "output_type": "stream",
     "text": [
      "              precision    recall  f1-score   support\n",
      "\n",
      "           0       0.50      1.00      0.67      8922\n",
      "           1       0.77      0.01      0.03      9031\n",
      "\n",
      "    accuracy                           0.50     17953\n",
      "   macro avg       0.64      0.51      0.35     17953\n",
      "weighted avg       0.64      0.50      0.35     17953\n",
      "\n"
     ]
    }
   ],
   "source": [
    "print(classification_report(np.array(y_test), y_pred))"
   ]
  },
  {
   "cell_type": "code",
   "execution_count": null,
   "metadata": {},
   "outputs": [],
   "source": []
  }
 ],
 "metadata": {
  "kernelspec": {
   "display_name": "Python 3",
   "language": "python",
   "name": "python3"
  },
  "language_info": {
   "codemirror_mode": {
    "name": "ipython",
    "version": 3
   },
   "file_extension": ".py",
   "mimetype": "text/x-python",
   "name": "python",
   "nbconvert_exporter": "python",
   "pygments_lexer": "ipython3",
   "version": "3.7.6"
  }
 },
 "nbformat": 4,
 "nbformat_minor": 4
}
