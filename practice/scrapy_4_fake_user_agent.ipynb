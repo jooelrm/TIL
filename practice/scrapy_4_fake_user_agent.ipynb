{
 "cells": [
  {
   "cell_type": "markdown",
   "metadata": {},
   "source": [
    "### Playnomore\n",
    "- 가방, 옷, 악세사리 판매하는 쇼핑몰\n",
    "- http://playnomore.co.kr/"
   ]
  },
  {
   "cell_type": "code",
   "execution_count": 1,
   "metadata": {},
   "outputs": [],
   "source": [
    "import scrapy\n",
    "import requests\n",
    "from scrapy.http import TextResponse\n",
    "from fake_useragent import UserAgent"
   ]
  },
  {
   "cell_type": "code",
   "execution_count": 2,
   "metadata": {},
   "outputs": [],
   "source": [
    "# 1. 프로젝트 생성"
   ]
  },
  {
   "cell_type": "code",
   "execution_count": 3,
   "metadata": {},
   "outputs": [
    {
     "name": "stdout",
     "output_type": "stream",
     "text": [
      "Error: scrapy.cfg already exists in /Users/hyunjoon/Downloads/playnomore\r\n"
     ]
    }
   ],
   "source": [
    "!scrapy startproject playnomore"
   ]
  },
  {
   "cell_type": "code",
   "execution_count": 4,
   "metadata": {},
   "outputs": [],
   "source": [
    "# 2. items.py 코드 작성"
   ]
  },
  {
   "cell_type": "code",
   "execution_count": 5,
   "metadata": {},
   "outputs": [
    {
     "name": "stdout",
     "output_type": "stream",
     "text": [
      "Overwriting playnomore/playnomore/items.py\n"
     ]
    }
   ],
   "source": [
    "%%writefile playnomore/playnomore/items.py\n",
    "import scrapy\n",
    "\n",
    "class PlaynomoreItem(scrapy.Item):\n",
    "    title = scrapy.Field()\n",
    "    price = scrapy.Field()\n",
    "    img = scrapy.Field()\n",
    "    link = scrapy.Field()"
   ]
  },
  {
   "cell_type": "code",
   "execution_count": 6,
   "metadata": {},
   "outputs": [],
   "source": [
    "# 3. xpath 찾기 : 링크, 상품 데이터"
   ]
  },
  {
   "cell_type": "code",
   "execution_count": 7,
   "metadata": {},
   "outputs": [],
   "source": [
    "# 링크"
   ]
  },
  {
   "cell_type": "code",
   "execution_count": 8,
   "metadata": {},
   "outputs": [
    {
     "data": {
      "text/plain": [
       "<200 http://playnomore.co.kr/category/bag/24/>"
      ]
     },
     "execution_count": 8,
     "metadata": {},
     "output_type": "execute_result"
    }
   ],
   "source": [
    "url = \"http://playnomore.co.kr/category/bag/24/\"\n",
    "# headers = {\"User-Agent\": \"Mozilla/5.0 (Macintosh; Intel Mac OS X 10_15_4) AppleWebKit/537.36 (KHTML, like Gecko) Chrome/83.0.4103.116 Safari/537.36\"}\n",
    "headers = {\"User-Agent\": UserAgent().chrome}\n",
    "req = requests.get(url, headers=headers)\n",
    "response = TextResponse(req.url, body=req.text, encoding=\"utf-8\")\n",
    "response"
   ]
  },
  {
   "cell_type": "code",
   "execution_count": 9,
   "metadata": {},
   "outputs": [
    {
     "data": {
      "text/plain": [
       "['http://playnomore.co.kr/product/detail.html?product_no=573&cate_no=24&display_group=1',\n",
       " 'http://playnomore.co.kr/product/detail.html?product_no=572&cate_no=24&display_group=1',\n",
       " 'http://playnomore.co.kr/product/detail.html?product_no=550&cate_no=24&display_group=1']"
      ]
     },
     "execution_count": 9,
     "metadata": {},
     "output_type": "execute_result"
    }
   ],
   "source": [
    "links = response.xpath('//*[@id=\"contents\"]/div[2]/div/ul/li/div[1]/a/@href').extract()\n",
    "links = list(map(lambda data:response.urljoin(data), links))\n",
    "links[:3]"
   ]
  },
  {
   "cell_type": "code",
   "execution_count": 10,
   "metadata": {},
   "outputs": [],
   "source": [
    "# 상세 데이터"
   ]
  },
  {
   "cell_type": "code",
   "execution_count": 11,
   "metadata": {},
   "outputs": [
    {
     "data": {
      "text/plain": [
       "<200 http://playnomore.co.kr/product/pre-order20off-micro-baguette-yellow-180/573/?cate_no=24&display_group=1>"
      ]
     },
     "execution_count": 11,
     "metadata": {},
     "output_type": "execute_result"
    }
   ],
   "source": [
    "url = \"http://playnomore.co.kr/product/pre-order20off-micro-baguette-yellow-180/573/?cate_no=24&display_group=1\"\n",
    "headers = {\"User-Agent\": UserAgent().chrome}\n",
    "req = requests.get(url, headers=headers)\n",
    "response = TextResponse(req.url, body=req.text, encoding=\"utf-8\")\n",
    "response"
   ]
  },
  {
   "cell_type": "code",
   "execution_count": 12,
   "metadata": {},
   "outputs": [
    {
     "data": {
      "text/plain": [
       "('[Pre-Order/20%off]  MICRO BAGUETTE  yellow ',\n",
       " '$ 144',\n",
       " 'http://playnomore.co.kr/web/product/small/20200407/43ec3b61d30531a05a3d727780c9b1f3.jpg')"
      ]
     },
     "execution_count": 12,
     "metadata": {},
     "output_type": "execute_result"
    }
   ],
   "source": [
    "title1 = response.xpath(\n",
    "    '//*[@id=\"contents\"]/div[1]/div[1]/div[2]/div[1]/font/text()')[0].extract()\n",
    "title2 = response.xpath(\n",
    "    '//*[@id=\"contents\"]/div[1]/div[1]/div[2]/div[1]/text()').extract()\n",
    "title = title1 + \" \".join(title2)\n",
    "price = response.xpath(\n",
    "    '//*[@id=\"contents\"]/div[1]/div[1]/div[2]/div[2]/text()')[0].extract()\n",
    "img = \"http:\" + response.xpath(\n",
    "    '//*[@id=\"contents\"]/div[1]/div[1]/div[1]/div[2]/ul/li[1]/img/@src')[0].extract()\n",
    "\n",
    "title, price, img"
   ]
  },
  {
   "cell_type": "code",
   "execution_count": 13,
   "metadata": {},
   "outputs": [],
   "source": [
    "# 4. spider.py 코드 작성 : fake user agent 설정"
   ]
  },
  {
   "cell_type": "code",
   "execution_count": 14,
   "metadata": {},
   "outputs": [
    {
     "name": "stdout",
     "output_type": "stream",
     "text": [
      "Requirement already satisfied: scrapy-fake-useragent in /Users/hyunjoon/opt/anaconda3/lib/python3.7/site-packages (1.2.0)\r\n",
      "Requirement already satisfied: fake-useragent in /Users/hyunjoon/opt/anaconda3/lib/python3.7/site-packages (from scrapy-fake-useragent) (0.1.11)\r\n"
     ]
    }
   ],
   "source": [
    "!pip install scrapy-fake-useragent"
   ]
  },
  {
   "cell_type": "code",
   "execution_count": 27,
   "metadata": {},
   "outputs": [
    {
     "name": "stdout",
     "output_type": "stream",
     "text": [
      "Overwriting playnomore/playnomore/spiders/spiders.py\n"
     ]
    }
   ],
   "source": [
    "%%writefile playnomore/playnomore/spiders/spiders.py\n",
    "import scrapy\n",
    "from playnomore.items import PlaynomoreItem\n",
    "\n",
    "class PlaynomoreSpider(scrapy.Spider):\n",
    "    name = \"Playnomore\"\n",
    "    custom_settings = {\n",
    "        \"DOWNLOADER_MIDDLEWARES\": {\n",
    "            \"scrapy.downloadmiddlewares.useragent.UserAgentMiddleware\": None,\n",
    "            \"scrapy_fake_useragent.middleware.RandomUserAgentMiddleware\": 400,\n",
    "        }\n",
    "    }\n",
    "    \n",
    "    def __init__(self,category1, category2, **kwargs):\n",
    "        self.start_urls =[\"http://playnomore.co.kr/category/{}/{}\". format(category1, category2)]\n",
    "        super().__init__(**kwargs)\n",
    "        \n",
    "        \n",
    "    def start_requests(self):\n",
    "        urls = self.start_urls\n",
    "        for url in urls:\n",
    "            yield scrapy.Request(url, callback = self.parse)\n",
    "    \n",
    "    def parse(self, response):\n",
    "        links = response.xpath('//*[@id=\"contents\"]/div[2]/div/ul/li/div[1]/a/@href').extract()\n",
    "        links = list(map(lambda data:response.urljoin(data), links))\n",
    "        for link in links:\n",
    "            yield scrapy.Request(link, callback=self.parse_content)\n",
    "            \n",
    "    def parse_content(self, response):\n",
    "        item = PlaynomoreItem()\n",
    "        title1 = response.xpath('//*[@id=\"contents\"]/div[1]/div[1]/div[2]/div[1]/font/text()')[0].extract()\n",
    "        title2 = response.xpath('//*[@id=\"contents\"]/div[1]/div[1]/div[2]/div[1]/text()').extract()\n",
    "        item[\"title\"] = title1 + \" \".join(title2)\n",
    "        item[\"price\"] = response.xpath('//*[@id=\"contents\"]/div[1]/div[1]/div[2]/div[2]/text()')[0].extract()\n",
    "        item[\"img\"] = \"http:\" + response.xpath('//*[@id=\"contents\"]/div[1]/div[1]/div[1]/div[2]/ul/li[1]/img/@src')[0].extract()\n",
    "        item[\"link\"] = response.url\n",
    "        yield item"
   ]
  },
  {
   "cell_type": "code",
   "execution_count": 28,
   "metadata": {},
   "outputs": [],
   "source": [
    "# 5. 스크래피 실행시 아규먼트 설정"
   ]
  },
  {
   "cell_type": "code",
   "execution_count": 29,
   "metadata": {},
   "outputs": [],
   "source": [
    "# bag/24/\n",
    "# shoes/25/\n",
    "# beauty/28/\n"
   ]
  },
  {
   "cell_type": "code",
   "execution_count": 30,
   "metadata": {},
   "outputs": [],
   "source": [
    "# 6. 스크레피 실행"
   ]
  },
  {
   "cell_type": "code",
   "execution_count": 31,
   "metadata": {},
   "outputs": [
    {
     "name": "stdout",
     "output_type": "stream",
     "text": [
      "Overwriting run.sh\n"
     ]
    }
   ],
   "source": [
    "%%writefile run.sh\n",
    "cd playnomore\n",
    "scrapy crawl Playnomore -o playnomore2.csv -a category1=beauty, -a category2=28"
   ]
  },
  {
   "cell_type": "code",
   "execution_count": 25,
   "metadata": {},
   "outputs": [
    {
     "name": "stdout",
     "output_type": "stream",
     "text": [
      "Overwriting run.sh\n"
     ]
    }
   ],
   "source": [
    "# %%writefile run.sh\n",
    "# cd playnomore\n",
    "# scrapy crawl Playnomore -o playnomore.csv"
   ]
  },
  {
   "cell_type": "code",
   "execution_count": 32,
   "metadata": {},
   "outputs": [
    {
     "name": "stdout",
     "output_type": "stream",
     "text": [
      "2020-07-10 15:15:14 [scrapy.utils.log] INFO: Scrapy 2.2.0 started (bot: playnomore)\n",
      "2020-07-10 15:15:14 [scrapy.utils.log] INFO: Versions: lxml 4.5.0.0, libxml2 2.9.9, cssselect 1.1.0, parsel 1.6.0, w3lib 1.22.0, Twisted 20.3.0, Python 3.7.6 (default, Jan  8 2020, 13:42:34) - [Clang 4.0.1 (tags/RELEASE_401/final)], pyOpenSSL 19.1.0 (OpenSSL 1.1.1d  10 Sep 2019), cryptography 2.8, Platform Darwin-18.7.0-x86_64-i386-64bit\n",
      "2020-07-10 15:15:14 [scrapy.utils.log] DEBUG: Using reactor: twisted.internet.selectreactor.SelectReactor\n",
      "2020-07-10 15:15:14 [scrapy.crawler] INFO: Overridden settings:\n",
      "{'BOT_NAME': 'playnomore',\n",
      " 'NEWSPIDER_MODULE': 'playnomore.spiders',\n",
      " 'ROBOTSTXT_OBEY': True,\n",
      " 'SPIDER_MODULES': ['playnomore.spiders']}\n",
      "2020-07-10 15:15:14 [scrapy.extensions.telnet] INFO: Telnet Password: cfda1ab33c899838\n",
      "2020-07-10 15:15:14 [scrapy.middleware] INFO: Enabled extensions:\n",
      "['scrapy.extensions.corestats.CoreStats',\n",
      " 'scrapy.extensions.telnet.TelnetConsole',\n",
      " 'scrapy.extensions.memusage.MemoryUsage',\n",
      " 'scrapy.extensions.feedexport.FeedExporter',\n",
      " 'scrapy.extensions.logstats.LogStats']\n",
      "2020-07-10 15:15:14 [scrapy.middleware] INFO: Enabled downloader middlewares:\n",
      "['scrapy.downloadermiddlewares.robotstxt.RobotsTxtMiddleware',\n",
      " 'scrapy.downloadermiddlewares.httpauth.HttpAuthMiddleware',\n",
      " 'scrapy.downloadermiddlewares.downloadtimeout.DownloadTimeoutMiddleware',\n",
      " 'scrapy.downloadermiddlewares.defaultheaders.DefaultHeadersMiddleware',\n",
      " 'scrapy_fake_useragent.middleware.RandomUserAgentMiddleware',\n",
      " 'scrapy.downloadermiddlewares.useragent.UserAgentMiddleware',\n",
      " 'scrapy.downloadermiddlewares.retry.RetryMiddleware',\n",
      " 'scrapy.downloadermiddlewares.redirect.MetaRefreshMiddleware',\n",
      " 'scrapy.downloadermiddlewares.httpcompression.HttpCompressionMiddleware',\n",
      " 'scrapy.downloadermiddlewares.redirect.RedirectMiddleware',\n",
      " 'scrapy.downloadermiddlewares.cookies.CookiesMiddleware',\n",
      " 'scrapy.downloadermiddlewares.httpproxy.HttpProxyMiddleware',\n",
      " 'scrapy.downloadermiddlewares.stats.DownloaderStats']\n",
      "2020-07-10 15:15:14 [scrapy.middleware] INFO: Enabled spider middlewares:\n",
      "['scrapy.spidermiddlewares.httperror.HttpErrorMiddleware',\n",
      " 'scrapy.spidermiddlewares.offsite.OffsiteMiddleware',\n",
      " 'scrapy.spidermiddlewares.referer.RefererMiddleware',\n",
      " 'scrapy.spidermiddlewares.urllength.UrlLengthMiddleware',\n",
      " 'scrapy.spidermiddlewares.depth.DepthMiddleware']\n",
      "2020-07-10 15:15:14 [scrapy.middleware] INFO: Enabled item pipelines:\n",
      "[]\n",
      "2020-07-10 15:15:14 [scrapy.core.engine] INFO: Spider opened\n",
      "2020-07-10 15:15:14 [scrapy.extensions.logstats] INFO: Crawled 0 pages (at 0 pages/min), scraped 0 items (at 0 items/min)\n",
      "2020-07-10 15:15:14 [scrapy.extensions.telnet] INFO: Telnet console listening on 127.0.0.1:6023\n",
      "2020-07-10 15:15:14 [scrapy.core.engine] DEBUG: Crawled (200) <GET http://playnomore.co.kr/robots.txt> (referer: None)\n",
      "2020-07-10 15:15:15 [scrapy.core.engine] DEBUG: Crawled (200) <GET http://playnomore.co.kr/category/beauty,/28> (referer: None)\n",
      "2020-07-10 15:15:15 [scrapy.downloadermiddlewares.redirect] DEBUG: Redirecting (301) to <GET http://playnomore.co.kr/product/nail-sticker-04-playpink/187/?cate_no=28&display_group=1> from <GET http://playnomore.co.kr/product/detail.html?product_no=187&cate_no=28&display_group=1>\n",
      "2020-07-10 15:15:15 [scrapy.downloadermiddlewares.redirect] DEBUG: Redirecting (301) to <GET http://playnomore.co.kr/product/nail-sticker-06-shygirl-eyes/188/?cate_no=28&display_group=1> from <GET http://playnomore.co.kr/product/detail.html?product_no=188&cate_no=28&display_group=1>\n",
      "2020-07-10 15:15:15 [scrapy.downloadermiddlewares.redirect] DEBUG: Redirecting (301) to <GET http://playnomore.co.kr/product/nail-sticker-02-make-up-your-mind/185/?cate_no=28&display_group=1> from <GET http://playnomore.co.kr/product/detail.html?product_no=185&cate_no=28&display_group=1>\n",
      "2020-07-10 15:15:15 [scrapy.downloadermiddlewares.redirect] DEBUG: Redirecting (301) to <GET http://playnomore.co.kr/product/nail-sticker-10-abc/158/?cate_no=28&display_group=1> from <GET http://playnomore.co.kr/product/detail.html?product_no=158&cate_no=28&display_group=1>\n",
      "2020-07-10 15:15:15 [scrapy.downloadermiddlewares.redirect] DEBUG: Redirecting (301) to <GET http://playnomore.co.kr/product/nail-sticker-03-playblack/186/?cate_no=28&display_group=1> from <GET http://playnomore.co.kr/product/detail.html?product_no=186&cate_no=28&display_group=1>\n",
      "2020-07-10 15:15:15 [scrapy.downloadermiddlewares.redirect] DEBUG: Redirecting (301) to <GET http://playnomore.co.kr/product/nail-sticker-07-irene-is-good/184/?cate_no=28&display_group=1> from <GET http://playnomore.co.kr/product/detail.html?product_no=184&cate_no=28&display_group=1>\n",
      "2020-07-10 15:15:15 [scrapy.downloadermiddlewares.redirect] DEBUG: Redirecting (301) to <GET http://playnomore.co.kr/product/nail-sticker-05-love-your-face/189/?cate_no=28&display_group=1> from <GET http://playnomore.co.kr/product/detail.html?product_no=189&cate_no=28&display_group=1>\n",
      "2020-07-10 15:15:15 [scrapy.downloadermiddlewares.redirect] DEBUG: Redirecting (301) to <GET http://playnomore.co.kr/product/nail-sticker-09-blah-blah/157/?cate_no=28&display_group=1> from <GET http://playnomore.co.kr/product/detail.html?product_no=157&cate_no=28&display_group=1>\n",
      "2020-07-10 15:15:15 [scrapy.downloadermiddlewares.redirect] DEBUG: Redirecting (301) to <GET http://playnomore.co.kr/product/nail-sticker-01-lip/183/?cate_no=28&display_group=1> from <GET http://playnomore.co.kr/product/detail.html?product_no=183&cate_no=28&display_group=1>\n",
      "2020-07-10 15:15:15 [scrapy.core.engine] DEBUG: Crawled (200) <GET http://playnomore.co.kr/product/nail-sticker-06-shygirl-eyes/188/?cate_no=28&display_group=1> (referer: http://playnomore.co.kr/category/beauty,/28)\n",
      "2020-07-10 15:15:15 [scrapy.core.engine] DEBUG: Crawled (200) <GET http://playnomore.co.kr/product/nail-sticker-09-blah-blah/157/?cate_no=28&display_group=1> (referer: http://playnomore.co.kr/category/beauty,/28)\n",
      "2020-07-10 15:15:15 [scrapy.core.engine] DEBUG: Crawled (200) <GET http://playnomore.co.kr/product/nail-sticker-03-playblack/186/?cate_no=28&display_group=1> (referer: http://playnomore.co.kr/category/beauty,/28)\n",
      "2020-07-10 15:15:15 [scrapy.core.engine] DEBUG: Crawled (200) <GET http://playnomore.co.kr/product/nail-sticker-07-irene-is-good/184/?cate_no=28&display_group=1> (referer: http://playnomore.co.kr/category/beauty,/28)\n",
      "2020-07-10 15:15:15 [scrapy.core.engine] DEBUG: Crawled (200) <GET http://playnomore.co.kr/product/nail-sticker-10-abc/158/?cate_no=28&display_group=1> (referer: http://playnomore.co.kr/category/beauty,/28)\n",
      "2020-07-10 15:15:15 [scrapy.core.engine] DEBUG: Crawled (200) <GET http://playnomore.co.kr/product/nail-sticker-04-playpink/187/?cate_no=28&display_group=1> (referer: http://playnomore.co.kr/category/beauty,/28)\n",
      "2020-07-10 15:15:15 [scrapy.core.engine] DEBUG: Crawled (200) <GET http://playnomore.co.kr/product/nail-sticker-02-make-up-your-mind/185/?cate_no=28&display_group=1> (referer: http://playnomore.co.kr/category/beauty,/28)\n",
      "2020-07-10 15:15:15 [scrapy.core.engine] DEBUG: Crawled (200) <GET http://playnomore.co.kr/product/nail-sticker-05-love-your-face/189/?cate_no=28&display_group=1> (referer: http://playnomore.co.kr/category/beauty,/28)\n",
      "2020-07-10 15:15:15 [scrapy.core.scraper] ERROR: Spider error processing <GET http://playnomore.co.kr/product/nail-sticker-06-shygirl-eyes/188/?cate_no=28&display_group=1> (referer: http://playnomore.co.kr/category/beauty,/28)\n",
      "Traceback (most recent call last):\n",
      "  File \"/Users/hyunjoon/opt/anaconda3/lib/python3.7/site-packages/scrapy/utils/defer.py\", line 120, in iter_errback\n",
      "    yield next(it)\n",
      "  File \"/Users/hyunjoon/opt/anaconda3/lib/python3.7/site-packages/scrapy/utils/python.py\", line 346, in __next__\n",
      "    return next(self.data)\n",
      "  File \"/Users/hyunjoon/opt/anaconda3/lib/python3.7/site-packages/scrapy/utils/python.py\", line 346, in __next__\n",
      "    return next(self.data)\n",
      "  File \"/Users/hyunjoon/opt/anaconda3/lib/python3.7/site-packages/scrapy/core/spidermw.py\", line 64, in _evaluate_iterable\n",
      "    for r in iterable:\n",
      "  File \"/Users/hyunjoon/opt/anaconda3/lib/python3.7/site-packages/scrapy/spidermiddlewares/offsite.py\", line 29, in process_spider_output\n",
      "    for x in result:\n",
      "  File \"/Users/hyunjoon/opt/anaconda3/lib/python3.7/site-packages/scrapy/core/spidermw.py\", line 64, in _evaluate_iterable\n",
      "    for r in iterable:\n",
      "  File \"/Users/hyunjoon/opt/anaconda3/lib/python3.7/site-packages/scrapy/spidermiddlewares/referer.py\", line 340, in <genexpr>\n",
      "    return (_set_referer(r) for r in result or ())\n",
      "  File \"/Users/hyunjoon/opt/anaconda3/lib/python3.7/site-packages/scrapy/core/spidermw.py\", line 64, in _evaluate_iterable\n",
      "    for r in iterable:\n",
      "  File \"/Users/hyunjoon/opt/anaconda3/lib/python3.7/site-packages/scrapy/spidermiddlewares/urllength.py\", line 37, in <genexpr>\n",
      "    return (r for r in result or () if _filter(r))\n",
      "  File \"/Users/hyunjoon/opt/anaconda3/lib/python3.7/site-packages/scrapy/core/spidermw.py\", line 64, in _evaluate_iterable\n",
      "    for r in iterable:\n",
      "  File \"/Users/hyunjoon/opt/anaconda3/lib/python3.7/site-packages/scrapy/spidermiddlewares/depth.py\", line 58, in <genexpr>\n",
      "    return (r for r in result or () if _filter(r))\n",
      "  File \"/Users/hyunjoon/opt/anaconda3/lib/python3.7/site-packages/scrapy/core/spidermw.py\", line 64, in _evaluate_iterable\n",
      "    for r in iterable:\n",
      "  File \"/Users/hyunjoon/Downloads/playnomore/playnomore/spiders/spiders.py\", line 31, in parse_content\n",
      "    title1 = response.xpath('//*[@id=\"contents\"]/div[1]/div[1]/div[2]/div[1]/font/text()')[0].extract()\n",
      "  File \"/Users/hyunjoon/opt/anaconda3/lib/python3.7/site-packages/parsel/selector.py\", line 70, in __getitem__\n",
      "    o = super(SelectorList, self).__getitem__(pos)\n",
      "IndexError: list index out of range\n",
      "2020-07-10 15:15:15 [scrapy.core.scraper] ERROR: Spider error processing <GET http://playnomore.co.kr/product/nail-sticker-09-blah-blah/157/?cate_no=28&display_group=1> (referer: http://playnomore.co.kr/category/beauty,/28)\n",
      "Traceback (most recent call last):\n",
      "  File \"/Users/hyunjoon/opt/anaconda3/lib/python3.7/site-packages/scrapy/utils/defer.py\", line 120, in iter_errback\n",
      "    yield next(it)\n",
      "  File \"/Users/hyunjoon/opt/anaconda3/lib/python3.7/site-packages/scrapy/utils/python.py\", line 346, in __next__\n",
      "    return next(self.data)\n",
      "  File \"/Users/hyunjoon/opt/anaconda3/lib/python3.7/site-packages/scrapy/utils/python.py\", line 346, in __next__\n",
      "    return next(self.data)\n",
      "  File \"/Users/hyunjoon/opt/anaconda3/lib/python3.7/site-packages/scrapy/core/spidermw.py\", line 64, in _evaluate_iterable\n",
      "    for r in iterable:\n",
      "  File \"/Users/hyunjoon/opt/anaconda3/lib/python3.7/site-packages/scrapy/spidermiddlewares/offsite.py\", line 29, in process_spider_output\n",
      "    for x in result:\n",
      "  File \"/Users/hyunjoon/opt/anaconda3/lib/python3.7/site-packages/scrapy/core/spidermw.py\", line 64, in _evaluate_iterable\n",
      "    for r in iterable:\n",
      "  File \"/Users/hyunjoon/opt/anaconda3/lib/python3.7/site-packages/scrapy/spidermiddlewares/referer.py\", line 340, in <genexpr>\n",
      "    return (_set_referer(r) for r in result or ())\n",
      "  File \"/Users/hyunjoon/opt/anaconda3/lib/python3.7/site-packages/scrapy/core/spidermw.py\", line 64, in _evaluate_iterable\n",
      "    for r in iterable:\n",
      "  File \"/Users/hyunjoon/opt/anaconda3/lib/python3.7/site-packages/scrapy/spidermiddlewares/urllength.py\", line 37, in <genexpr>\n",
      "    return (r for r in result or () if _filter(r))\n",
      "  File \"/Users/hyunjoon/opt/anaconda3/lib/python3.7/site-packages/scrapy/core/spidermw.py\", line 64, in _evaluate_iterable\n",
      "    for r in iterable:\n",
      "  File \"/Users/hyunjoon/opt/anaconda3/lib/python3.7/site-packages/scrapy/spidermiddlewares/depth.py\", line 58, in <genexpr>\n",
      "    return (r for r in result or () if _filter(r))\n",
      "  File \"/Users/hyunjoon/opt/anaconda3/lib/python3.7/site-packages/scrapy/core/spidermw.py\", line 64, in _evaluate_iterable\n",
      "    for r in iterable:\n",
      "  File \"/Users/hyunjoon/Downloads/playnomore/playnomore/spiders/spiders.py\", line 31, in parse_content\n",
      "    title1 = response.xpath('//*[@id=\"contents\"]/div[1]/div[1]/div[2]/div[1]/font/text()')[0].extract()\n",
      "  File \"/Users/hyunjoon/opt/anaconda3/lib/python3.7/site-packages/parsel/selector.py\", line 70, in __getitem__\n",
      "    o = super(SelectorList, self).__getitem__(pos)\n",
      "IndexError: list index out of range\n",
      "2020-07-10 15:15:15 [scrapy.core.scraper] ERROR: Spider error processing <GET http://playnomore.co.kr/product/nail-sticker-03-playblack/186/?cate_no=28&display_group=1> (referer: http://playnomore.co.kr/category/beauty,/28)\n",
      "Traceback (most recent call last):\n",
      "  File \"/Users/hyunjoon/opt/anaconda3/lib/python3.7/site-packages/scrapy/utils/defer.py\", line 120, in iter_errback\n",
      "    yield next(it)\n",
      "  File \"/Users/hyunjoon/opt/anaconda3/lib/python3.7/site-packages/scrapy/utils/python.py\", line 346, in __next__\n",
      "    return next(self.data)\n",
      "  File \"/Users/hyunjoon/opt/anaconda3/lib/python3.7/site-packages/scrapy/utils/python.py\", line 346, in __next__\n",
      "    return next(self.data)\n",
      "  File \"/Users/hyunjoon/opt/anaconda3/lib/python3.7/site-packages/scrapy/core/spidermw.py\", line 64, in _evaluate_iterable\n",
      "    for r in iterable:\n",
      "  File \"/Users/hyunjoon/opt/anaconda3/lib/python3.7/site-packages/scrapy/spidermiddlewares/offsite.py\", line 29, in process_spider_output\n",
      "    for x in result:\n",
      "  File \"/Users/hyunjoon/opt/anaconda3/lib/python3.7/site-packages/scrapy/core/spidermw.py\", line 64, in _evaluate_iterable\n",
      "    for r in iterable:\n",
      "  File \"/Users/hyunjoon/opt/anaconda3/lib/python3.7/site-packages/scrapy/spidermiddlewares/referer.py\", line 340, in <genexpr>\n",
      "    return (_set_referer(r) for r in result or ())\n",
      "  File \"/Users/hyunjoon/opt/anaconda3/lib/python3.7/site-packages/scrapy/core/spidermw.py\", line 64, in _evaluate_iterable\n",
      "    for r in iterable:\n",
      "  File \"/Users/hyunjoon/opt/anaconda3/lib/python3.7/site-packages/scrapy/spidermiddlewares/urllength.py\", line 37, in <genexpr>\n",
      "    return (r for r in result or () if _filter(r))\n",
      "  File \"/Users/hyunjoon/opt/anaconda3/lib/python3.7/site-packages/scrapy/core/spidermw.py\", line 64, in _evaluate_iterable\n",
      "    for r in iterable:\n",
      "  File \"/Users/hyunjoon/opt/anaconda3/lib/python3.7/site-packages/scrapy/spidermiddlewares/depth.py\", line 58, in <genexpr>\n",
      "    return (r for r in result or () if _filter(r))\n",
      "  File \"/Users/hyunjoon/opt/anaconda3/lib/python3.7/site-packages/scrapy/core/spidermw.py\", line 64, in _evaluate_iterable\n",
      "    for r in iterable:\n",
      "  File \"/Users/hyunjoon/Downloads/playnomore/playnomore/spiders/spiders.py\", line 31, in parse_content\n",
      "    title1 = response.xpath('//*[@id=\"contents\"]/div[1]/div[1]/div[2]/div[1]/font/text()')[0].extract()\n",
      "  File \"/Users/hyunjoon/opt/anaconda3/lib/python3.7/site-packages/parsel/selector.py\", line 70, in __getitem__\n",
      "    o = super(SelectorList, self).__getitem__(pos)\n",
      "IndexError: list index out of range\n"
     ]
    },
    {
     "name": "stdout",
     "output_type": "stream",
     "text": [
      "2020-07-10 15:15:15 [scrapy.core.scraper] ERROR: Spider error processing <GET http://playnomore.co.kr/product/nail-sticker-07-irene-is-good/184/?cate_no=28&display_group=1> (referer: http://playnomore.co.kr/category/beauty,/28)\n",
      "Traceback (most recent call last):\n",
      "  File \"/Users/hyunjoon/opt/anaconda3/lib/python3.7/site-packages/scrapy/utils/defer.py\", line 120, in iter_errback\n",
      "    yield next(it)\n",
      "  File \"/Users/hyunjoon/opt/anaconda3/lib/python3.7/site-packages/scrapy/utils/python.py\", line 346, in __next__\n",
      "    return next(self.data)\n",
      "  File \"/Users/hyunjoon/opt/anaconda3/lib/python3.7/site-packages/scrapy/utils/python.py\", line 346, in __next__\n",
      "    return next(self.data)\n",
      "  File \"/Users/hyunjoon/opt/anaconda3/lib/python3.7/site-packages/scrapy/core/spidermw.py\", line 64, in _evaluate_iterable\n",
      "    for r in iterable:\n",
      "  File \"/Users/hyunjoon/opt/anaconda3/lib/python3.7/site-packages/scrapy/spidermiddlewares/offsite.py\", line 29, in process_spider_output\n",
      "    for x in result:\n",
      "  File \"/Users/hyunjoon/opt/anaconda3/lib/python3.7/site-packages/scrapy/core/spidermw.py\", line 64, in _evaluate_iterable\n",
      "    for r in iterable:\n",
      "  File \"/Users/hyunjoon/opt/anaconda3/lib/python3.7/site-packages/scrapy/spidermiddlewares/referer.py\", line 340, in <genexpr>\n",
      "    return (_set_referer(r) for r in result or ())\n",
      "  File \"/Users/hyunjoon/opt/anaconda3/lib/python3.7/site-packages/scrapy/core/spidermw.py\", line 64, in _evaluate_iterable\n",
      "    for r in iterable:\n",
      "  File \"/Users/hyunjoon/opt/anaconda3/lib/python3.7/site-packages/scrapy/spidermiddlewares/urllength.py\", line 37, in <genexpr>\n",
      "    return (r for r in result or () if _filter(r))\n",
      "  File \"/Users/hyunjoon/opt/anaconda3/lib/python3.7/site-packages/scrapy/core/spidermw.py\", line 64, in _evaluate_iterable\n",
      "    for r in iterable:\n",
      "  File \"/Users/hyunjoon/opt/anaconda3/lib/python3.7/site-packages/scrapy/spidermiddlewares/depth.py\", line 58, in <genexpr>\n",
      "    return (r for r in result or () if _filter(r))\n",
      "  File \"/Users/hyunjoon/opt/anaconda3/lib/python3.7/site-packages/scrapy/core/spidermw.py\", line 64, in _evaluate_iterable\n",
      "    for r in iterable:\n",
      "  File \"/Users/hyunjoon/Downloads/playnomore/playnomore/spiders/spiders.py\", line 31, in parse_content\n",
      "    title1 = response.xpath('//*[@id=\"contents\"]/div[1]/div[1]/div[2]/div[1]/font/text()')[0].extract()\n",
      "  File \"/Users/hyunjoon/opt/anaconda3/lib/python3.7/site-packages/parsel/selector.py\", line 70, in __getitem__\n",
      "    o = super(SelectorList, self).__getitem__(pos)\n",
      "IndexError: list index out of range\n",
      "2020-07-10 15:15:15 [scrapy.core.scraper] ERROR: Spider error processing <GET http://playnomore.co.kr/product/nail-sticker-10-abc/158/?cate_no=28&display_group=1> (referer: http://playnomore.co.kr/category/beauty,/28)\n",
      "Traceback (most recent call last):\n",
      "  File \"/Users/hyunjoon/opt/anaconda3/lib/python3.7/site-packages/scrapy/utils/defer.py\", line 120, in iter_errback\n",
      "    yield next(it)\n",
      "  File \"/Users/hyunjoon/opt/anaconda3/lib/python3.7/site-packages/scrapy/utils/python.py\", line 346, in __next__\n",
      "    return next(self.data)\n",
      "  File \"/Users/hyunjoon/opt/anaconda3/lib/python3.7/site-packages/scrapy/utils/python.py\", line 346, in __next__\n",
      "    return next(self.data)\n",
      "  File \"/Users/hyunjoon/opt/anaconda3/lib/python3.7/site-packages/scrapy/core/spidermw.py\", line 64, in _evaluate_iterable\n",
      "    for r in iterable:\n",
      "  File \"/Users/hyunjoon/opt/anaconda3/lib/python3.7/site-packages/scrapy/spidermiddlewares/offsite.py\", line 29, in process_spider_output\n",
      "    for x in result:\n",
      "  File \"/Users/hyunjoon/opt/anaconda3/lib/python3.7/site-packages/scrapy/core/spidermw.py\", line 64, in _evaluate_iterable\n",
      "    for r in iterable:\n",
      "  File \"/Users/hyunjoon/opt/anaconda3/lib/python3.7/site-packages/scrapy/spidermiddlewares/referer.py\", line 340, in <genexpr>\n",
      "    return (_set_referer(r) for r in result or ())\n",
      "  File \"/Users/hyunjoon/opt/anaconda3/lib/python3.7/site-packages/scrapy/core/spidermw.py\", line 64, in _evaluate_iterable\n",
      "    for r in iterable:\n",
      "  File \"/Users/hyunjoon/opt/anaconda3/lib/python3.7/site-packages/scrapy/spidermiddlewares/urllength.py\", line 37, in <genexpr>\n",
      "    return (r for r in result or () if _filter(r))\n",
      "  File \"/Users/hyunjoon/opt/anaconda3/lib/python3.7/site-packages/scrapy/core/spidermw.py\", line 64, in _evaluate_iterable\n",
      "    for r in iterable:\n",
      "  File \"/Users/hyunjoon/opt/anaconda3/lib/python3.7/site-packages/scrapy/spidermiddlewares/depth.py\", line 58, in <genexpr>\n",
      "    return (r for r in result or () if _filter(r))\n",
      "  File \"/Users/hyunjoon/opt/anaconda3/lib/python3.7/site-packages/scrapy/core/spidermw.py\", line 64, in _evaluate_iterable\n",
      "    for r in iterable:\n",
      "  File \"/Users/hyunjoon/Downloads/playnomore/playnomore/spiders/spiders.py\", line 31, in parse_content\n",
      "    title1 = response.xpath('//*[@id=\"contents\"]/div[1]/div[1]/div[2]/div[1]/font/text()')[0].extract()\n",
      "  File \"/Users/hyunjoon/opt/anaconda3/lib/python3.7/site-packages/parsel/selector.py\", line 70, in __getitem__\n",
      "    o = super(SelectorList, self).__getitem__(pos)\n",
      "IndexError: list index out of range\n",
      "2020-07-10 15:15:15 [scrapy.core.scraper] ERROR: Spider error processing <GET http://playnomore.co.kr/product/nail-sticker-04-playpink/187/?cate_no=28&display_group=1> (referer: http://playnomore.co.kr/category/beauty,/28)\n",
      "Traceback (most recent call last):\n",
      "  File \"/Users/hyunjoon/opt/anaconda3/lib/python3.7/site-packages/scrapy/utils/defer.py\", line 120, in iter_errback\n",
      "    yield next(it)\n",
      "  File \"/Users/hyunjoon/opt/anaconda3/lib/python3.7/site-packages/scrapy/utils/python.py\", line 346, in __next__\n",
      "    return next(self.data)\n",
      "  File \"/Users/hyunjoon/opt/anaconda3/lib/python3.7/site-packages/scrapy/utils/python.py\", line 346, in __next__\n",
      "    return next(self.data)\n",
      "  File \"/Users/hyunjoon/opt/anaconda3/lib/python3.7/site-packages/scrapy/core/spidermw.py\", line 64, in _evaluate_iterable\n",
      "    for r in iterable:\n",
      "  File \"/Users/hyunjoon/opt/anaconda3/lib/python3.7/site-packages/scrapy/spidermiddlewares/offsite.py\", line 29, in process_spider_output\n",
      "    for x in result:\n",
      "  File \"/Users/hyunjoon/opt/anaconda3/lib/python3.7/site-packages/scrapy/core/spidermw.py\", line 64, in _evaluate_iterable\n",
      "    for r in iterable:\n",
      "  File \"/Users/hyunjoon/opt/anaconda3/lib/python3.7/site-packages/scrapy/spidermiddlewares/referer.py\", line 340, in <genexpr>\n",
      "    return (_set_referer(r) for r in result or ())\n",
      "  File \"/Users/hyunjoon/opt/anaconda3/lib/python3.7/site-packages/scrapy/core/spidermw.py\", line 64, in _evaluate_iterable\n",
      "    for r in iterable:\n",
      "  File \"/Users/hyunjoon/opt/anaconda3/lib/python3.7/site-packages/scrapy/spidermiddlewares/urllength.py\", line 37, in <genexpr>\n",
      "    return (r for r in result or () if _filter(r))\n",
      "  File \"/Users/hyunjoon/opt/anaconda3/lib/python3.7/site-packages/scrapy/core/spidermw.py\", line 64, in _evaluate_iterable\n",
      "    for r in iterable:\n",
      "  File \"/Users/hyunjoon/opt/anaconda3/lib/python3.7/site-packages/scrapy/spidermiddlewares/depth.py\", line 58, in <genexpr>\n",
      "    return (r for r in result or () if _filter(r))\n",
      "  File \"/Users/hyunjoon/opt/anaconda3/lib/python3.7/site-packages/scrapy/core/spidermw.py\", line 64, in _evaluate_iterable\n",
      "    for r in iterable:\n",
      "  File \"/Users/hyunjoon/Downloads/playnomore/playnomore/spiders/spiders.py\", line 31, in parse_content\n",
      "    title1 = response.xpath('//*[@id=\"contents\"]/div[1]/div[1]/div[2]/div[1]/font/text()')[0].extract()\n",
      "  File \"/Users/hyunjoon/opt/anaconda3/lib/python3.7/site-packages/parsel/selector.py\", line 70, in __getitem__\n",
      "    o = super(SelectorList, self).__getitem__(pos)\n",
      "IndexError: list index out of range\n",
      "2020-07-10 15:15:15 [scrapy.core.scraper] ERROR: Spider error processing <GET http://playnomore.co.kr/product/nail-sticker-02-make-up-your-mind/185/?cate_no=28&display_group=1> (referer: http://playnomore.co.kr/category/beauty,/28)\n",
      "Traceback (most recent call last):\n",
      "  File \"/Users/hyunjoon/opt/anaconda3/lib/python3.7/site-packages/scrapy/utils/defer.py\", line 120, in iter_errback\n",
      "    yield next(it)\n",
      "  File \"/Users/hyunjoon/opt/anaconda3/lib/python3.7/site-packages/scrapy/utils/python.py\", line 346, in __next__\n",
      "    return next(self.data)\n",
      "  File \"/Users/hyunjoon/opt/anaconda3/lib/python3.7/site-packages/scrapy/utils/python.py\", line 346, in __next__\n",
      "    return next(self.data)\n",
      "  File \"/Users/hyunjoon/opt/anaconda3/lib/python3.7/site-packages/scrapy/core/spidermw.py\", line 64, in _evaluate_iterable\n",
      "    for r in iterable:\n",
      "  File \"/Users/hyunjoon/opt/anaconda3/lib/python3.7/site-packages/scrapy/spidermiddlewares/offsite.py\", line 29, in process_spider_output\n",
      "    for x in result:\n",
      "  File \"/Users/hyunjoon/opt/anaconda3/lib/python3.7/site-packages/scrapy/core/spidermw.py\", line 64, in _evaluate_iterable\n",
      "    for r in iterable:\n",
      "  File \"/Users/hyunjoon/opt/anaconda3/lib/python3.7/site-packages/scrapy/spidermiddlewares/referer.py\", line 340, in <genexpr>\n",
      "    return (_set_referer(r) for r in result or ())\n",
      "  File \"/Users/hyunjoon/opt/anaconda3/lib/python3.7/site-packages/scrapy/core/spidermw.py\", line 64, in _evaluate_iterable\n",
      "    for r in iterable:\n",
      "  File \"/Users/hyunjoon/opt/anaconda3/lib/python3.7/site-packages/scrapy/spidermiddlewares/urllength.py\", line 37, in <genexpr>\n",
      "    return (r for r in result or () if _filter(r))\n",
      "  File \"/Users/hyunjoon/opt/anaconda3/lib/python3.7/site-packages/scrapy/core/spidermw.py\", line 64, in _evaluate_iterable\n",
      "    for r in iterable:\n",
      "  File \"/Users/hyunjoon/opt/anaconda3/lib/python3.7/site-packages/scrapy/spidermiddlewares/depth.py\", line 58, in <genexpr>\n",
      "    return (r for r in result or () if _filter(r))\n",
      "  File \"/Users/hyunjoon/opt/anaconda3/lib/python3.7/site-packages/scrapy/core/spidermw.py\", line 64, in _evaluate_iterable\n",
      "    for r in iterable:\n",
      "  File \"/Users/hyunjoon/Downloads/playnomore/playnomore/spiders/spiders.py\", line 31, in parse_content\n",
      "    title1 = response.xpath('//*[@id=\"contents\"]/div[1]/div[1]/div[2]/div[1]/font/text()')[0].extract()\n",
      "  File \"/Users/hyunjoon/opt/anaconda3/lib/python3.7/site-packages/parsel/selector.py\", line 70, in __getitem__\n",
      "    o = super(SelectorList, self).__getitem__(pos)\n",
      "IndexError: list index out of range\n",
      "2020-07-10 15:15:15 [scrapy.core.scraper] ERROR: Spider error processing <GET http://playnomore.co.kr/product/nail-sticker-05-love-your-face/189/?cate_no=28&display_group=1> (referer: http://playnomore.co.kr/category/beauty,/28)\n",
      "Traceback (most recent call last):\n",
      "  File \"/Users/hyunjoon/opt/anaconda3/lib/python3.7/site-packages/scrapy/utils/defer.py\", line 120, in iter_errback\n",
      "    yield next(it)\n",
      "  File \"/Users/hyunjoon/opt/anaconda3/lib/python3.7/site-packages/scrapy/utils/python.py\", line 346, in __next__\n",
      "    return next(self.data)\n",
      "  File \"/Users/hyunjoon/opt/anaconda3/lib/python3.7/site-packages/scrapy/utils/python.py\", line 346, in __next__\n",
      "    return next(self.data)\n",
      "  File \"/Users/hyunjoon/opt/anaconda3/lib/python3.7/site-packages/scrapy/core/spidermw.py\", line 64, in _evaluate_iterable\n",
      "    for r in iterable:\n",
      "  File \"/Users/hyunjoon/opt/anaconda3/lib/python3.7/site-packages/scrapy/spidermiddlewares/offsite.py\", line 29, in process_spider_output\n",
      "    for x in result:\n",
      "  File \"/Users/hyunjoon/opt/anaconda3/lib/python3.7/site-packages/scrapy/core/spidermw.py\", line 64, in _evaluate_iterable\n",
      "    for r in iterable:\n",
      "  File \"/Users/hyunjoon/opt/anaconda3/lib/python3.7/site-packages/scrapy/spidermiddlewares/referer.py\", line 340, in <genexpr>\n",
      "    return (_set_referer(r) for r in result or ())\n",
      "  File \"/Users/hyunjoon/opt/anaconda3/lib/python3.7/site-packages/scrapy/core/spidermw.py\", line 64, in _evaluate_iterable\n",
      "    for r in iterable:\n",
      "  File \"/Users/hyunjoon/opt/anaconda3/lib/python3.7/site-packages/scrapy/spidermiddlewares/urllength.py\", line 37, in <genexpr>\n",
      "    return (r for r in result or () if _filter(r))\n",
      "  File \"/Users/hyunjoon/opt/anaconda3/lib/python3.7/site-packages/scrapy/core/spidermw.py\", line 64, in _evaluate_iterable\n",
      "    for r in iterable:\n",
      "  File \"/Users/hyunjoon/opt/anaconda3/lib/python3.7/site-packages/scrapy/spidermiddlewares/depth.py\", line 58, in <genexpr>\n",
      "    return (r for r in result or () if _filter(r))\n",
      "  File \"/Users/hyunjoon/opt/anaconda3/lib/python3.7/site-packages/scrapy/core/spidermw.py\", line 64, in _evaluate_iterable\n",
      "    for r in iterable:\n",
      "  File \"/Users/hyunjoon/Downloads/playnomore/playnomore/spiders/spiders.py\", line 31, in parse_content\n",
      "    title1 = response.xpath('//*[@id=\"contents\"]/div[1]/div[1]/div[2]/div[1]/font/text()')[0].extract()\n",
      "  File \"/Users/hyunjoon/opt/anaconda3/lib/python3.7/site-packages/parsel/selector.py\", line 70, in __getitem__\n",
      "    o = super(SelectorList, self).__getitem__(pos)\n",
      "IndexError: list index out of range\n",
      "2020-07-10 15:15:15 [scrapy.core.engine] DEBUG: Crawled (200) <GET http://playnomore.co.kr/product/nail-sticker-01-lip/183/?cate_no=28&display_group=1> (referer: http://playnomore.co.kr/category/beauty,/28)\n"
     ]
    },
    {
     "name": "stdout",
     "output_type": "stream",
     "text": [
      "2020-07-10 15:15:15 [scrapy.core.scraper] ERROR: Spider error processing <GET http://playnomore.co.kr/product/nail-sticker-01-lip/183/?cate_no=28&display_group=1> (referer: http://playnomore.co.kr/category/beauty,/28)\r\n",
      "Traceback (most recent call last):\r\n",
      "  File \"/Users/hyunjoon/opt/anaconda3/lib/python3.7/site-packages/scrapy/utils/defer.py\", line 120, in iter_errback\r\n",
      "    yield next(it)\r\n",
      "  File \"/Users/hyunjoon/opt/anaconda3/lib/python3.7/site-packages/scrapy/utils/python.py\", line 346, in __next__\r\n",
      "    return next(self.data)\r\n",
      "  File \"/Users/hyunjoon/opt/anaconda3/lib/python3.7/site-packages/scrapy/utils/python.py\", line 346, in __next__\r\n",
      "    return next(self.data)\r\n",
      "  File \"/Users/hyunjoon/opt/anaconda3/lib/python3.7/site-packages/scrapy/core/spidermw.py\", line 64, in _evaluate_iterable\r\n",
      "    for r in iterable:\r\n",
      "  File \"/Users/hyunjoon/opt/anaconda3/lib/python3.7/site-packages/scrapy/spidermiddlewares/offsite.py\", line 29, in process_spider_output\r\n",
      "    for x in result:\r\n",
      "  File \"/Users/hyunjoon/opt/anaconda3/lib/python3.7/site-packages/scrapy/core/spidermw.py\", line 64, in _evaluate_iterable\r\n",
      "    for r in iterable:\r\n",
      "  File \"/Users/hyunjoon/opt/anaconda3/lib/python3.7/site-packages/scrapy/spidermiddlewares/referer.py\", line 340, in <genexpr>\r\n",
      "    return (_set_referer(r) for r in result or ())\r\n",
      "  File \"/Users/hyunjoon/opt/anaconda3/lib/python3.7/site-packages/scrapy/core/spidermw.py\", line 64, in _evaluate_iterable\r\n",
      "    for r in iterable:\r\n",
      "  File \"/Users/hyunjoon/opt/anaconda3/lib/python3.7/site-packages/scrapy/spidermiddlewares/urllength.py\", line 37, in <genexpr>\r\n",
      "    return (r for r in result or () if _filter(r))\r\n",
      "  File \"/Users/hyunjoon/opt/anaconda3/lib/python3.7/site-packages/scrapy/core/spidermw.py\", line 64, in _evaluate_iterable\r\n",
      "    for r in iterable:\r\n",
      "  File \"/Users/hyunjoon/opt/anaconda3/lib/python3.7/site-packages/scrapy/spidermiddlewares/depth.py\", line 58, in <genexpr>\r\n",
      "    return (r for r in result or () if _filter(r))\r\n",
      "  File \"/Users/hyunjoon/opt/anaconda3/lib/python3.7/site-packages/scrapy/core/spidermw.py\", line 64, in _evaluate_iterable\r\n",
      "    for r in iterable:\r\n",
      "  File \"/Users/hyunjoon/Downloads/playnomore/playnomore/spiders/spiders.py\", line 31, in parse_content\r\n",
      "    title1 = response.xpath('//*[@id=\"contents\"]/div[1]/div[1]/div[2]/div[1]/font/text()')[0].extract()\r\n",
      "  File \"/Users/hyunjoon/opt/anaconda3/lib/python3.7/site-packages/parsel/selector.py\", line 70, in __getitem__\r\n",
      "    o = super(SelectorList, self).__getitem__(pos)\r\n",
      "IndexError: list index out of range\r\n",
      "2020-07-10 15:15:15 [scrapy.core.engine] INFO: Closing spider (finished)\r\n",
      "2020-07-10 15:15:15 [scrapy.statscollectors] INFO: Dumping Scrapy stats:\r\n",
      "{'downloader/request_bytes': 10637,\r\n",
      " 'downloader/request_count': 20,\r\n",
      " 'downloader/request_method_count/GET': 20,\r\n",
      " 'downloader/response_bytes': 184585,\r\n",
      " 'downloader/response_count': 20,\r\n",
      " 'downloader/response_status_count/200': 11,\r\n",
      " 'downloader/response_status_count/301': 9,\r\n",
      " 'elapsed_time_seconds': 1.052304,\r\n",
      " 'finish_reason': 'finished',\r\n",
      " 'finish_time': datetime.datetime(2020, 7, 10, 6, 15, 15, 839159),\r\n",
      " 'log_count/DEBUG': 20,\r\n",
      " 'log_count/ERROR': 9,\r\n",
      " 'log_count/INFO': 10,\r\n",
      " 'memusage/max': 55988224,\r\n",
      " 'memusage/startup': 55988224,\r\n",
      " 'request_depth_max': 1,\r\n",
      " 'response_received_count': 11,\r\n",
      " 'robotstxt/request_count': 1,\r\n",
      " 'robotstxt/response_count': 1,\r\n",
      " 'robotstxt/response_status_count/200': 1,\r\n",
      " 'scheduler/dequeued': 19,\r\n",
      " 'scheduler/dequeued/memory': 19,\r\n",
      " 'scheduler/enqueued': 19,\r\n",
      " 'scheduler/enqueued/memory': 19,\r\n",
      " 'spider_exceptions/IndexError': 9,\r\n",
      " 'start_time': datetime.datetime(2020, 7, 10, 6, 15, 14, 786855)}\r\n",
      "2020-07-10 15:15:15 [scrapy.core.engine] INFO: Spider closed (finished)\r\n"
     ]
    }
   ],
   "source": [
    "!source run.sh"
   ]
  },
  {
   "cell_type": "code",
   "execution_count": 35,
   "metadata": {},
   "outputs": [
    {
     "data": {
      "text/html": [
       "<div>\n",
       "<style scoped>\n",
       "    .dataframe tbody tr th:only-of-type {\n",
       "        vertical-align: middle;\n",
       "    }\n",
       "\n",
       "    .dataframe tbody tr th {\n",
       "        vertical-align: top;\n",
       "    }\n",
       "\n",
       "    .dataframe thead th {\n",
       "        text-align: right;\n",
       "    }\n",
       "</style>\n",
       "<table border=\"1\" class=\"dataframe\">\n",
       "  <thead>\n",
       "    <tr style=\"text-align: right;\">\n",
       "      <th></th>\n",
       "      <th>img</th>\n",
       "      <th>link</th>\n",
       "      <th>price</th>\n",
       "      <th>title</th>\n",
       "    </tr>\n",
       "  </thead>\n",
       "  <tbody>\n",
       "    <tr>\n",
       "      <th>12</th>\n",
       "      <td>http://playnomore.co.kr/web/product/small/2020...</td>\n",
       "      <td>http://playnomore.co.kr/product/pre-order20off...</td>\n",
       "      <td>$ 144</td>\n",
       "      <td>[Pre-Order/20%off]  MICRO BAGUETTE  white</td>\n",
       "    </tr>\n",
       "    <tr>\n",
       "      <th>13</th>\n",
       "      <td>http://playnomore.co.kr/web/product/small/2020...</td>\n",
       "      <td>http://playnomore.co.kr/product/15off-micro-ca...</td>\n",
       "      <td>$ 153</td>\n",
       "      <td>[15%off]  MICRO CANDY  magenta</td>\n",
       "    </tr>\n",
       "  </tbody>\n",
       "</table>\n",
       "</div>"
      ],
      "text/plain": [
       "                                                  img  \\\n",
       "12  http://playnomore.co.kr/web/product/small/2020...   \n",
       "13  http://playnomore.co.kr/web/product/small/2020...   \n",
       "\n",
       "                                                 link  price  \\\n",
       "12  http://playnomore.co.kr/product/pre-order20off...  $ 144   \n",
       "13  http://playnomore.co.kr/product/15off-micro-ca...  $ 153   \n",
       "\n",
       "                                         title  \n",
       "12  [Pre-Order/20%off]  MICRO BAGUETTE  white   \n",
       "13             [15%off]  MICRO CANDY  magenta   "
      ]
     },
     "execution_count": 35,
     "metadata": {},
     "output_type": "execute_result"
    }
   ],
   "source": [
    "df = pd.read_csv(\"playnomore/playnomore.csv\")\n",
    "df.tail(2)"
   ]
  },
  {
   "cell_type": "code",
   "execution_count": 36,
   "metadata": {},
   "outputs": [],
   "source": [
    "#이미지 저장"
   ]
  },
  {
   "cell_type": "code",
   "execution_count": 42,
   "metadata": {},
   "outputs": [
    {
     "data": {
      "text/plain": [
       "'http://playnomore.co.kr/web/product/small/20200306/dbac22b93ab0c50bb2a44c90127f23f8.jpg'"
      ]
     },
     "execution_count": 42,
     "metadata": {},
     "output_type": "execute_result"
    }
   ],
   "source": [
    "link = df.loc[0, \"img\"] \n",
    "link"
   ]
  },
  {
   "cell_type": "code",
   "execution_count": 44,
   "metadata": {},
   "outputs": [],
   "source": [
    "with open(\"test.png\",\"wb\") as f:\n",
    "    headers = {\"User-Agent\": UserAgent().chrome}\n",
    "    response = requests.get(link, headers = headers)\n",
    "    f.write(response.content)"
   ]
  },
  {
   "cell_type": "code",
   "execution_count": null,
   "metadata": {},
   "outputs": [],
   "source": []
  }
 ],
 "metadata": {
  "kernelspec": {
   "display_name": "Python 3",
   "language": "python",
   "name": "python3"
  },
  "language_info": {
   "codemirror_mode": {
    "name": "ipython",
    "version": 3
   },
   "file_extension": ".py",
   "mimetype": "text/x-python",
   "name": "python",
   "nbconvert_exporter": "python",
   "pygments_lexer": "ipython3",
   "version": "3.7.6"
  }
 },
 "nbformat": 4,
 "nbformat_minor": 4
}
